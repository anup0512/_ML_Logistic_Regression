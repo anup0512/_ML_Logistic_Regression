{
 "cells": [
  {
   "cell_type": "code",
   "execution_count": 1,
   "id": "83d4cbd3",
   "metadata": {},
   "outputs": [],
   "source": [
    "import pandas as pd\n",
    "import numpy as np\n",
    "import matplotlib.pyplot as plt\n",
    "import seaborn as sns\n",
    "from sklearn.preprocessing import StandardScaler\n",
    "import statsmodels.formula.api as smf\n",
    "import statsmodels.api as sm\n",
    "from sklearn.model_selection import train_test_split\n",
    "from sklearn.linear_model import LogisticRegression\n",
    "from sklearn.metrics import accuracy_score,confusion_matrix,precision_score,recall_score,roc_auc_score,roc_curve,classification_report\n",
    "\n",
    "\n"
   ]
  },
  {
   "cell_type": "code",
   "execution_count": 2,
   "id": "c2f52e46",
   "metadata": {},
   "outputs": [
    {
     "data": {
      "text/html": [
       "<div>\n",
       "<style scoped>\n",
       "    .dataframe tbody tr th:only-of-type {\n",
       "        vertical-align: middle;\n",
       "    }\n",
       "\n",
       "    .dataframe tbody tr th {\n",
       "        vertical-align: top;\n",
       "    }\n",
       "\n",
       "    .dataframe thead th {\n",
       "        text-align: right;\n",
       "    }\n",
       "</style>\n",
       "<table border=\"1\" class=\"dataframe\">\n",
       "  <thead>\n",
       "    <tr style=\"text-align: right;\">\n",
       "      <th></th>\n",
       "      <th>age</th>\n",
       "      <th>job</th>\n",
       "      <th>marital</th>\n",
       "      <th>education</th>\n",
       "      <th>default</th>\n",
       "      <th>balance</th>\n",
       "      <th>housing</th>\n",
       "      <th>loan</th>\n",
       "      <th>contact</th>\n",
       "      <th>day</th>\n",
       "      <th>month</th>\n",
       "      <th>duration</th>\n",
       "      <th>campaign</th>\n",
       "      <th>pdays</th>\n",
       "      <th>previous</th>\n",
       "      <th>poutcome</th>\n",
       "      <th>y</th>\n",
       "    </tr>\n",
       "  </thead>\n",
       "  <tbody>\n",
       "    <tr>\n",
       "      <th>0</th>\n",
       "      <td>58</td>\n",
       "      <td>management</td>\n",
       "      <td>married</td>\n",
       "      <td>tertiary</td>\n",
       "      <td>no</td>\n",
       "      <td>2143</td>\n",
       "      <td>yes</td>\n",
       "      <td>no</td>\n",
       "      <td>unknown</td>\n",
       "      <td>5</td>\n",
       "      <td>may</td>\n",
       "      <td>261</td>\n",
       "      <td>1</td>\n",
       "      <td>-1</td>\n",
       "      <td>0</td>\n",
       "      <td>unknown</td>\n",
       "      <td>no</td>\n",
       "    </tr>\n",
       "    <tr>\n",
       "      <th>1</th>\n",
       "      <td>44</td>\n",
       "      <td>technician</td>\n",
       "      <td>single</td>\n",
       "      <td>secondary</td>\n",
       "      <td>no</td>\n",
       "      <td>29</td>\n",
       "      <td>yes</td>\n",
       "      <td>no</td>\n",
       "      <td>unknown</td>\n",
       "      <td>5</td>\n",
       "      <td>may</td>\n",
       "      <td>151</td>\n",
       "      <td>1</td>\n",
       "      <td>-1</td>\n",
       "      <td>0</td>\n",
       "      <td>unknown</td>\n",
       "      <td>no</td>\n",
       "    </tr>\n",
       "    <tr>\n",
       "      <th>2</th>\n",
       "      <td>33</td>\n",
       "      <td>entrepreneur</td>\n",
       "      <td>married</td>\n",
       "      <td>secondary</td>\n",
       "      <td>no</td>\n",
       "      <td>2</td>\n",
       "      <td>yes</td>\n",
       "      <td>yes</td>\n",
       "      <td>unknown</td>\n",
       "      <td>5</td>\n",
       "      <td>may</td>\n",
       "      <td>76</td>\n",
       "      <td>1</td>\n",
       "      <td>-1</td>\n",
       "      <td>0</td>\n",
       "      <td>unknown</td>\n",
       "      <td>no</td>\n",
       "    </tr>\n",
       "    <tr>\n",
       "      <th>3</th>\n",
       "      <td>47</td>\n",
       "      <td>blue-collar</td>\n",
       "      <td>married</td>\n",
       "      <td>unknown</td>\n",
       "      <td>no</td>\n",
       "      <td>1506</td>\n",
       "      <td>yes</td>\n",
       "      <td>no</td>\n",
       "      <td>unknown</td>\n",
       "      <td>5</td>\n",
       "      <td>may</td>\n",
       "      <td>92</td>\n",
       "      <td>1</td>\n",
       "      <td>-1</td>\n",
       "      <td>0</td>\n",
       "      <td>unknown</td>\n",
       "      <td>no</td>\n",
       "    </tr>\n",
       "    <tr>\n",
       "      <th>4</th>\n",
       "      <td>33</td>\n",
       "      <td>unknown</td>\n",
       "      <td>single</td>\n",
       "      <td>unknown</td>\n",
       "      <td>no</td>\n",
       "      <td>1</td>\n",
       "      <td>no</td>\n",
       "      <td>no</td>\n",
       "      <td>unknown</td>\n",
       "      <td>5</td>\n",
       "      <td>may</td>\n",
       "      <td>198</td>\n",
       "      <td>1</td>\n",
       "      <td>-1</td>\n",
       "      <td>0</td>\n",
       "      <td>unknown</td>\n",
       "      <td>no</td>\n",
       "    </tr>\n",
       "  </tbody>\n",
       "</table>\n",
       "</div>"
      ],
      "text/plain": [
       "   age           job  marital  education default  balance housing loan  \\\n",
       "0   58    management  married   tertiary      no     2143     yes   no   \n",
       "1   44    technician   single  secondary      no       29     yes   no   \n",
       "2   33  entrepreneur  married  secondary      no        2     yes  yes   \n",
       "3   47   blue-collar  married    unknown      no     1506     yes   no   \n",
       "4   33       unknown   single    unknown      no        1      no   no   \n",
       "\n",
       "   contact  day month  duration  campaign  pdays  previous poutcome   y  \n",
       "0  unknown    5   may       261         1     -1         0  unknown  no  \n",
       "1  unknown    5   may       151         1     -1         0  unknown  no  \n",
       "2  unknown    5   may        76         1     -1         0  unknown  no  \n",
       "3  unknown    5   may        92         1     -1         0  unknown  no  \n",
       "4  unknown    5   may       198         1     -1         0  unknown  no  "
      ]
     },
     "execution_count": 2,
     "metadata": {},
     "output_type": "execute_result"
    }
   ],
   "source": [
    "bank1 = pd.read_csv('C:/Users/Anup0/OneDrive/Desktop/ExcelR/Assignment/Assignment6/bank-full.csv',sep=';')\n",
    "bank1.head()"
   ]
  },
  {
   "cell_type": "code",
   "execution_count": 3,
   "id": "d7e1ceb5",
   "metadata": {},
   "outputs": [
    {
     "data": {
      "text/plain": [
       "(45211, 17)"
      ]
     },
     "execution_count": 3,
     "metadata": {},
     "output_type": "execute_result"
    }
   ],
   "source": [
    "bank1.shape"
   ]
  },
  {
   "cell_type": "code",
   "execution_count": 4,
   "id": "f3959a5a",
   "metadata": {},
   "outputs": [
    {
     "name": "stdout",
     "output_type": "stream",
     "text": [
      "<class 'pandas.core.frame.DataFrame'>\n",
      "RangeIndex: 45211 entries, 0 to 45210\n",
      "Data columns (total 17 columns):\n",
      " #   Column     Non-Null Count  Dtype \n",
      "---  ------     --------------  ----- \n",
      " 0   age        45211 non-null  int64 \n",
      " 1   job        45211 non-null  object\n",
      " 2   marital    45211 non-null  object\n",
      " 3   education  45211 non-null  object\n",
      " 4   default    45211 non-null  object\n",
      " 5   balance    45211 non-null  int64 \n",
      " 6   housing    45211 non-null  object\n",
      " 7   loan       45211 non-null  object\n",
      " 8   contact    45211 non-null  object\n",
      " 9   day        45211 non-null  int64 \n",
      " 10  month      45211 non-null  object\n",
      " 11  duration   45211 non-null  int64 \n",
      " 12  campaign   45211 non-null  int64 \n",
      " 13  pdays      45211 non-null  int64 \n",
      " 14  previous   45211 non-null  int64 \n",
      " 15  poutcome   45211 non-null  object\n",
      " 16  y          45211 non-null  object\n",
      "dtypes: int64(7), object(10)\n",
      "memory usage: 5.9+ MB\n"
     ]
    }
   ],
   "source": [
    "bank1.info()"
   ]
  },
  {
   "cell_type": "code",
   "execution_count": 5,
   "id": "dd30d51e",
   "metadata": {},
   "outputs": [
    {
     "data": {
      "text/html": [
       "<div>\n",
       "<style scoped>\n",
       "    .dataframe tbody tr th:only-of-type {\n",
       "        vertical-align: middle;\n",
       "    }\n",
       "\n",
       "    .dataframe tbody tr th {\n",
       "        vertical-align: top;\n",
       "    }\n",
       "\n",
       "    .dataframe thead th {\n",
       "        text-align: right;\n",
       "    }\n",
       "</style>\n",
       "<table border=\"1\" class=\"dataframe\">\n",
       "  <thead>\n",
       "    <tr style=\"text-align: right;\">\n",
       "      <th></th>\n",
       "      <th>count</th>\n",
       "      <th>mean</th>\n",
       "      <th>std</th>\n",
       "      <th>min</th>\n",
       "      <th>25%</th>\n",
       "      <th>50%</th>\n",
       "      <th>75%</th>\n",
       "      <th>max</th>\n",
       "    </tr>\n",
       "  </thead>\n",
       "  <tbody>\n",
       "    <tr>\n",
       "      <th>age</th>\n",
       "      <td>45211.0</td>\n",
       "      <td>40.936210</td>\n",
       "      <td>10.618762</td>\n",
       "      <td>18.0</td>\n",
       "      <td>33.0</td>\n",
       "      <td>39.0</td>\n",
       "      <td>48.0</td>\n",
       "      <td>95.0</td>\n",
       "    </tr>\n",
       "    <tr>\n",
       "      <th>balance</th>\n",
       "      <td>45211.0</td>\n",
       "      <td>1362.272058</td>\n",
       "      <td>3044.765829</td>\n",
       "      <td>-8019.0</td>\n",
       "      <td>72.0</td>\n",
       "      <td>448.0</td>\n",
       "      <td>1428.0</td>\n",
       "      <td>102127.0</td>\n",
       "    </tr>\n",
       "    <tr>\n",
       "      <th>day</th>\n",
       "      <td>45211.0</td>\n",
       "      <td>15.806419</td>\n",
       "      <td>8.322476</td>\n",
       "      <td>1.0</td>\n",
       "      <td>8.0</td>\n",
       "      <td>16.0</td>\n",
       "      <td>21.0</td>\n",
       "      <td>31.0</td>\n",
       "    </tr>\n",
       "    <tr>\n",
       "      <th>duration</th>\n",
       "      <td>45211.0</td>\n",
       "      <td>258.163080</td>\n",
       "      <td>257.527812</td>\n",
       "      <td>0.0</td>\n",
       "      <td>103.0</td>\n",
       "      <td>180.0</td>\n",
       "      <td>319.0</td>\n",
       "      <td>4918.0</td>\n",
       "    </tr>\n",
       "    <tr>\n",
       "      <th>campaign</th>\n",
       "      <td>45211.0</td>\n",
       "      <td>2.763841</td>\n",
       "      <td>3.098021</td>\n",
       "      <td>1.0</td>\n",
       "      <td>1.0</td>\n",
       "      <td>2.0</td>\n",
       "      <td>3.0</td>\n",
       "      <td>63.0</td>\n",
       "    </tr>\n",
       "    <tr>\n",
       "      <th>pdays</th>\n",
       "      <td>45211.0</td>\n",
       "      <td>40.197828</td>\n",
       "      <td>100.128746</td>\n",
       "      <td>-1.0</td>\n",
       "      <td>-1.0</td>\n",
       "      <td>-1.0</td>\n",
       "      <td>-1.0</td>\n",
       "      <td>871.0</td>\n",
       "    </tr>\n",
       "    <tr>\n",
       "      <th>previous</th>\n",
       "      <td>45211.0</td>\n",
       "      <td>0.580323</td>\n",
       "      <td>2.303441</td>\n",
       "      <td>0.0</td>\n",
       "      <td>0.0</td>\n",
       "      <td>0.0</td>\n",
       "      <td>0.0</td>\n",
       "      <td>275.0</td>\n",
       "    </tr>\n",
       "  </tbody>\n",
       "</table>\n",
       "</div>"
      ],
      "text/plain": [
       "            count         mean          std     min    25%    50%     75%  \\\n",
       "age       45211.0    40.936210    10.618762    18.0   33.0   39.0    48.0   \n",
       "balance   45211.0  1362.272058  3044.765829 -8019.0   72.0  448.0  1428.0   \n",
       "day       45211.0    15.806419     8.322476     1.0    8.0   16.0    21.0   \n",
       "duration  45211.0   258.163080   257.527812     0.0  103.0  180.0   319.0   \n",
       "campaign  45211.0     2.763841     3.098021     1.0    1.0    2.0     3.0   \n",
       "pdays     45211.0    40.197828   100.128746    -1.0   -1.0   -1.0    -1.0   \n",
       "previous  45211.0     0.580323     2.303441     0.0    0.0    0.0     0.0   \n",
       "\n",
       "               max  \n",
       "age           95.0  \n",
       "balance   102127.0  \n",
       "day           31.0  \n",
       "duration    4918.0  \n",
       "campaign      63.0  \n",
       "pdays        871.0  \n",
       "previous     275.0  "
      ]
     },
     "execution_count": 5,
     "metadata": {},
     "output_type": "execute_result"
    }
   ],
   "source": [
    "bank1.describe().T"
   ]
  },
  {
   "cell_type": "code",
   "execution_count": 6,
   "id": "a45bfb49",
   "metadata": {},
   "outputs": [
    {
     "data": {
      "text/plain": [
       "blue-collar      9732\n",
       "management       9458\n",
       "technician       7597\n",
       "admin.           5171\n",
       "services         4154\n",
       "retired          2264\n",
       "self-employed    1579\n",
       "entrepreneur     1487\n",
       "unemployed       1303\n",
       "housemaid        1240\n",
       "student           938\n",
       "unknown           288\n",
       "Name: job, dtype: int64"
      ]
     },
     "execution_count": 6,
     "metadata": {},
     "output_type": "execute_result"
    }
   ],
   "source": [
    "bank1.job.value_counts()"
   ]
  },
  {
   "cell_type": "code",
   "execution_count": 7,
   "id": "3159794c",
   "metadata": {},
   "outputs": [
    {
     "data": {
      "text/plain": [
       "married     27214\n",
       "single      12790\n",
       "divorced     5207\n",
       "Name: marital, dtype: int64"
      ]
     },
     "execution_count": 7,
     "metadata": {},
     "output_type": "execute_result"
    }
   ],
   "source": [
    "bank1.marital.value_counts()"
   ]
  },
  {
   "cell_type": "code",
   "execution_count": 8,
   "id": "932a163d",
   "metadata": {},
   "outputs": [
    {
     "data": {
      "text/plain": [
       "no     37967\n",
       "yes     7244\n",
       "Name: loan, dtype: int64"
      ]
     },
     "execution_count": 8,
     "metadata": {},
     "output_type": "execute_result"
    }
   ],
   "source": [
    "bank1.loan.value_counts()"
   ]
  },
  {
   "cell_type": "code",
   "execution_count": 9,
   "id": "7e2f885b",
   "metadata": {},
   "outputs": [
    {
     "data": {
      "text/plain": [
       "yes    25130\n",
       "no     20081\n",
       "Name: housing, dtype: int64"
      ]
     },
     "execution_count": 9,
     "metadata": {},
     "output_type": "execute_result"
    }
   ],
   "source": [
    "bank1.housing.value_counts()"
   ]
  },
  {
   "cell_type": "code",
   "execution_count": 10,
   "id": "57442ff3",
   "metadata": {},
   "outputs": [
    {
     "data": {
      "text/plain": [
       "no     44396\n",
       "yes      815\n",
       "Name: default, dtype: int64"
      ]
     },
     "execution_count": 10,
     "metadata": {},
     "output_type": "execute_result"
    }
   ],
   "source": [
    "bank1.default.value_counts()"
   ]
  },
  {
   "cell_type": "code",
   "execution_count": 11,
   "id": "fdf92961",
   "metadata": {},
   "outputs": [
    {
     "data": {
      "text/plain": [
       "secondary    23202\n",
       "tertiary     13301\n",
       "primary       6851\n",
       "unknown       1857\n",
       "Name: education, dtype: int64"
      ]
     },
     "execution_count": 11,
     "metadata": {},
     "output_type": "execute_result"
    }
   ],
   "source": [
    "bank1.education.value_counts()"
   ]
  },
  {
   "cell_type": "code",
   "execution_count": 12,
   "id": "36368975",
   "metadata": {},
   "outputs": [
    {
     "data": {
      "text/plain": [
       "cellular     29285\n",
       "unknown      13020\n",
       "telephone     2906\n",
       "Name: contact, dtype: int64"
      ]
     },
     "execution_count": 12,
     "metadata": {},
     "output_type": "execute_result"
    }
   ],
   "source": [
    "bank1.contact.value_counts()"
   ]
  },
  {
   "cell_type": "code",
   "execution_count": 13,
   "id": "ff5a0498",
   "metadata": {},
   "outputs": [
    {
     "data": {
      "text/plain": [
       "may    13766\n",
       "jul     6895\n",
       "aug     6247\n",
       "jun     5341\n",
       "nov     3970\n",
       "apr     2932\n",
       "feb     2649\n",
       "jan     1403\n",
       "oct      738\n",
       "sep      579\n",
       "mar      477\n",
       "dec      214\n",
       "Name: month, dtype: int64"
      ]
     },
     "execution_count": 13,
     "metadata": {},
     "output_type": "execute_result"
    }
   ],
   "source": [
    "bank1.month.value_counts()"
   ]
  },
  {
   "cell_type": "code",
   "execution_count": 14,
   "id": "b84377ce",
   "metadata": {},
   "outputs": [
    {
     "data": {
      "text/plain": [
       "unknown    36959\n",
       "failure     4901\n",
       "other       1840\n",
       "success     1511\n",
       "Name: poutcome, dtype: int64"
      ]
     },
     "execution_count": 14,
     "metadata": {},
     "output_type": "execute_result"
    }
   ],
   "source": [
    "bank1.poutcome.value_counts()"
   ]
  },
  {
   "cell_type": "code",
   "execution_count": 15,
   "id": "d0685587",
   "metadata": {},
   "outputs": [
    {
     "data": {
      "text/plain": [
       "no     39922\n",
       "yes     5289\n",
       "Name: y, dtype: int64"
      ]
     },
     "execution_count": 15,
     "metadata": {},
     "output_type": "execute_result"
    }
   ],
   "source": [
    "bank1.y.value_counts()"
   ]
  },
  {
   "cell_type": "code",
   "execution_count": 16,
   "id": "4bc0a0c0",
   "metadata": {},
   "outputs": [],
   "source": [
    "bank1['Target'] = np.where(bank1['y']=='yes',1,0)\n",
    "bank1.drop(['y'],axis = 1,inplace = True)"
   ]
  },
  {
   "cell_type": "code",
   "execution_count": 17,
   "id": "a80e526b",
   "metadata": {},
   "outputs": [
    {
     "data": {
      "text/plain": [
       "0    39922\n",
       "1     5289\n",
       "Name: Target, dtype: int64"
      ]
     },
     "execution_count": 17,
     "metadata": {},
     "output_type": "execute_result"
    }
   ],
   "source": [
    "bank1.Target.value_counts()"
   ]
  },
  {
   "cell_type": "code",
   "execution_count": 18,
   "id": "c89086f7",
   "metadata": {},
   "outputs": [
    {
     "name": "stderr",
     "output_type": "stream",
     "text": [
      "C:\\Users\\Anup0\\AppData\\Local\\Temp\\ipykernel_6340\\2920827490.py:1: FutureWarning: The default value of numeric_only in DataFrame.corr is deprecated. In a future version, it will default to False. Select only valid columns or specify the value of numeric_only to silence this warning.\n",
      "  correlation = bank1.corr()\n"
     ]
    },
    {
     "data": {
      "text/html": [
       "<div>\n",
       "<style scoped>\n",
       "    .dataframe tbody tr th:only-of-type {\n",
       "        vertical-align: middle;\n",
       "    }\n",
       "\n",
       "    .dataframe tbody tr th {\n",
       "        vertical-align: top;\n",
       "    }\n",
       "\n",
       "    .dataframe thead th {\n",
       "        text-align: right;\n",
       "    }\n",
       "</style>\n",
       "<table border=\"1\" class=\"dataframe\">\n",
       "  <thead>\n",
       "    <tr style=\"text-align: right;\">\n",
       "      <th></th>\n",
       "      <th>age</th>\n",
       "      <th>balance</th>\n",
       "      <th>day</th>\n",
       "      <th>duration</th>\n",
       "      <th>campaign</th>\n",
       "      <th>pdays</th>\n",
       "      <th>previous</th>\n",
       "      <th>Target</th>\n",
       "    </tr>\n",
       "  </thead>\n",
       "  <tbody>\n",
       "    <tr>\n",
       "      <th>age</th>\n",
       "      <td>1.000000</td>\n",
       "      <td>0.097783</td>\n",
       "      <td>-0.009120</td>\n",
       "      <td>-0.004648</td>\n",
       "      <td>0.004760</td>\n",
       "      <td>-0.023758</td>\n",
       "      <td>0.001288</td>\n",
       "      <td>0.025155</td>\n",
       "    </tr>\n",
       "    <tr>\n",
       "      <th>balance</th>\n",
       "      <td>0.097783</td>\n",
       "      <td>1.000000</td>\n",
       "      <td>0.004503</td>\n",
       "      <td>0.021560</td>\n",
       "      <td>-0.014578</td>\n",
       "      <td>0.003435</td>\n",
       "      <td>0.016674</td>\n",
       "      <td>0.052838</td>\n",
       "    </tr>\n",
       "    <tr>\n",
       "      <th>day</th>\n",
       "      <td>-0.009120</td>\n",
       "      <td>0.004503</td>\n",
       "      <td>1.000000</td>\n",
       "      <td>-0.030206</td>\n",
       "      <td>0.162490</td>\n",
       "      <td>-0.093044</td>\n",
       "      <td>-0.051710</td>\n",
       "      <td>-0.028348</td>\n",
       "    </tr>\n",
       "    <tr>\n",
       "      <th>duration</th>\n",
       "      <td>-0.004648</td>\n",
       "      <td>0.021560</td>\n",
       "      <td>-0.030206</td>\n",
       "      <td>1.000000</td>\n",
       "      <td>-0.084570</td>\n",
       "      <td>-0.001565</td>\n",
       "      <td>0.001203</td>\n",
       "      <td>0.394521</td>\n",
       "    </tr>\n",
       "    <tr>\n",
       "      <th>campaign</th>\n",
       "      <td>0.004760</td>\n",
       "      <td>-0.014578</td>\n",
       "      <td>0.162490</td>\n",
       "      <td>-0.084570</td>\n",
       "      <td>1.000000</td>\n",
       "      <td>-0.088628</td>\n",
       "      <td>-0.032855</td>\n",
       "      <td>-0.073172</td>\n",
       "    </tr>\n",
       "    <tr>\n",
       "      <th>pdays</th>\n",
       "      <td>-0.023758</td>\n",
       "      <td>0.003435</td>\n",
       "      <td>-0.093044</td>\n",
       "      <td>-0.001565</td>\n",
       "      <td>-0.088628</td>\n",
       "      <td>1.000000</td>\n",
       "      <td>0.454820</td>\n",
       "      <td>0.103621</td>\n",
       "    </tr>\n",
       "    <tr>\n",
       "      <th>previous</th>\n",
       "      <td>0.001288</td>\n",
       "      <td>0.016674</td>\n",
       "      <td>-0.051710</td>\n",
       "      <td>0.001203</td>\n",
       "      <td>-0.032855</td>\n",
       "      <td>0.454820</td>\n",
       "      <td>1.000000</td>\n",
       "      <td>0.093236</td>\n",
       "    </tr>\n",
       "    <tr>\n",
       "      <th>Target</th>\n",
       "      <td>0.025155</td>\n",
       "      <td>0.052838</td>\n",
       "      <td>-0.028348</td>\n",
       "      <td>0.394521</td>\n",
       "      <td>-0.073172</td>\n",
       "      <td>0.103621</td>\n",
       "      <td>0.093236</td>\n",
       "      <td>1.000000</td>\n",
       "    </tr>\n",
       "  </tbody>\n",
       "</table>\n",
       "</div>"
      ],
      "text/plain": [
       "               age   balance       day  duration  campaign     pdays  \\\n",
       "age       1.000000  0.097783 -0.009120 -0.004648  0.004760 -0.023758   \n",
       "balance   0.097783  1.000000  0.004503  0.021560 -0.014578  0.003435   \n",
       "day      -0.009120  0.004503  1.000000 -0.030206  0.162490 -0.093044   \n",
       "duration -0.004648  0.021560 -0.030206  1.000000 -0.084570 -0.001565   \n",
       "campaign  0.004760 -0.014578  0.162490 -0.084570  1.000000 -0.088628   \n",
       "pdays    -0.023758  0.003435 -0.093044 -0.001565 -0.088628  1.000000   \n",
       "previous  0.001288  0.016674 -0.051710  0.001203 -0.032855  0.454820   \n",
       "Target    0.025155  0.052838 -0.028348  0.394521 -0.073172  0.103621   \n",
       "\n",
       "          previous    Target  \n",
       "age       0.001288  0.025155  \n",
       "balance   0.016674  0.052838  \n",
       "day      -0.051710 -0.028348  \n",
       "duration  0.001203  0.394521  \n",
       "campaign -0.032855 -0.073172  \n",
       "pdays     0.454820  0.103621  \n",
       "previous  1.000000  0.093236  \n",
       "Target    0.093236  1.000000  "
      ]
     },
     "execution_count": 18,
     "metadata": {},
     "output_type": "execute_result"
    }
   ],
   "source": [
    "correlation = bank1.corr()\n",
    "correlation"
   ]
  },
  {
   "cell_type": "code",
   "execution_count": 19,
   "id": "eb8d0b1c",
   "metadata": {},
   "outputs": [
    {
     "data": {
      "text/plain": [
       "<Axes: >"
      ]
     },
     "execution_count": 19,
     "metadata": {},
     "output_type": "execute_result"
    },
    {
     "data": {
      "image/png": "[encoded data removed]",
      "text/plain": [
       "<Figure size 640x480 with 2 Axes>"
      ]
     },
     "metadata": {},
     "output_type": "display_data"
    }
   ],
   "source": [
    "sns.heatmap(correlation)"
   ]
  },
  {
   "cell_type": "markdown",
   "id": "2536faf5",
   "metadata": {},
   "source": [
    "## Using Crosstab to find impact of each variable on Target:"
   ]
  },
  {
   "cell_type": "code",
   "execution_count": 20,
   "id": "89022aec",
   "metadata": {},
   "outputs": [
    {
     "data": {
      "text/html": [
       "<div>\n",
       "<style scoped>\n",
       "    .dataframe tbody tr th:only-of-type {\n",
       "        vertical-align: middle;\n",
       "    }\n",
       "\n",
       "    .dataframe tbody tr th {\n",
       "        vertical-align: top;\n",
       "    }\n",
       "\n",
       "    .dataframe thead th {\n",
       "        text-align: right;\n",
       "    }\n",
       "</style>\n",
       "<table border=\"1\" class=\"dataframe\">\n",
       "  <thead>\n",
       "    <tr style=\"text-align: right;\">\n",
       "      <th>Target</th>\n",
       "      <th>0</th>\n",
       "      <th>1</th>\n",
       "    </tr>\n",
       "    <tr>\n",
       "      <th>marital</th>\n",
       "      <th></th>\n",
       "      <th></th>\n",
       "    </tr>\n",
       "  </thead>\n",
       "  <tbody>\n",
       "    <tr>\n",
       "      <th>divorced</th>\n",
       "      <td>0.880545</td>\n",
       "      <td>0.119455</td>\n",
       "    </tr>\n",
       "    <tr>\n",
       "      <th>married</th>\n",
       "      <td>0.898765</td>\n",
       "      <td>0.101235</td>\n",
       "    </tr>\n",
       "    <tr>\n",
       "      <th>single</th>\n",
       "      <td>0.850508</td>\n",
       "      <td>0.149492</td>\n",
       "    </tr>\n",
       "  </tbody>\n",
       "</table>\n",
       "</div>"
      ],
      "text/plain": [
       "Target           0         1\n",
       "marital                     \n",
       "divorced  0.880545  0.119455\n",
       "married   0.898765  0.101235\n",
       "single    0.850508  0.149492"
      ]
     },
     "execution_count": 20,
     "metadata": {},
     "output_type": "execute_result"
    }
   ],
   "source": [
    "ct_marital = pd.crosstab(index = bank1['marital'],\n",
    "           columns = bank1['Target'],\n",
    "           values = bank1['Target'],\n",
    "           aggfunc = 'count',\n",
    "           normalize='index')\n",
    "ct_marital"
   ]
  },
  {
   "cell_type": "code",
   "execution_count": 21,
   "id": "d960a69e",
   "metadata": {},
   "outputs": [
    {
     "data": {
      "image/png": "[encoded data removed]",
      "text/plain": [
       "<Figure size 640x480 with 1 Axes>"
      ]
     },
     "metadata": {},
     "output_type": "display_data"
    }
   ],
   "source": [
    "ct_marital.plot(kind = 'bar',stacked = True)\n",
    "plt.show()"
   ]
  },
  {
   "cell_type": "code",
   "execution_count": 22,
   "id": "7e62052e",
   "metadata": {},
   "outputs": [
    {
     "data": {
      "text/html": [
       "<div>\n",
       "<style scoped>\n",
       "    .dataframe tbody tr th:only-of-type {\n",
       "        vertical-align: middle;\n",
       "    }\n",
       "\n",
       "    .dataframe tbody tr th {\n",
       "        vertical-align: top;\n",
       "    }\n",
       "\n",
       "    .dataframe thead th {\n",
       "        text-align: right;\n",
       "    }\n",
       "</style>\n",
       "<table border=\"1\" class=\"dataframe\">\n",
       "  <thead>\n",
       "    <tr style=\"text-align: right;\">\n",
       "      <th>Target</th>\n",
       "      <th>0</th>\n",
       "      <th>1</th>\n",
       "    </tr>\n",
       "    <tr>\n",
       "      <th>loan</th>\n",
       "      <th></th>\n",
       "      <th></th>\n",
       "    </tr>\n",
       "  </thead>\n",
       "  <tbody>\n",
       "    <tr>\n",
       "      <th>no</th>\n",
       "      <td>33162</td>\n",
       "      <td>4805</td>\n",
       "    </tr>\n",
       "    <tr>\n",
       "      <th>yes</th>\n",
       "      <td>6760</td>\n",
       "      <td>484</td>\n",
       "    </tr>\n",
       "  </tbody>\n",
       "</table>\n",
       "</div>"
      ],
      "text/plain": [
       "Target      0     1\n",
       "loan               \n",
       "no      33162  4805\n",
       "yes      6760   484"
      ]
     },
     "execution_count": 22,
     "metadata": {},
     "output_type": "execute_result"
    }
   ],
   "source": [
    "ct_loan = pd.crosstab(index = bank1['loan'],\n",
    "           columns = bank1['Target'],\n",
    "           values = bank1['Target'],\n",
    "           aggfunc = 'count')\n",
    "ct_loan"
   ]
  },
  {
   "cell_type": "code",
   "execution_count": 23,
   "id": "c04062e6",
   "metadata": {},
   "outputs": [
    {
     "data": {
      "image/png": "[encoded data removed]",
      "text/plain": [
       "<Figure size 640x480 with 1 Axes>"
      ]
     },
     "metadata": {},
     "output_type": "display_data"
    }
   ],
   "source": [
    "ct_loan.plot(kind = 'bar',stacked = True)\n",
    "plt.show()"
   ]
  },
  {
   "cell_type": "code",
   "execution_count": 24,
   "id": "881500ed",
   "metadata": {},
   "outputs": [
    {
     "data": {
      "text/html": [
       "<div>\n",
       "<style scoped>\n",
       "    .dataframe tbody tr th:only-of-type {\n",
       "        vertical-align: middle;\n",
       "    }\n",
       "\n",
       "    .dataframe tbody tr th {\n",
       "        vertical-align: top;\n",
       "    }\n",
       "\n",
       "    .dataframe thead th {\n",
       "        text-align: right;\n",
       "    }\n",
       "</style>\n",
       "<table border=\"1\" class=\"dataframe\">\n",
       "  <thead>\n",
       "    <tr style=\"text-align: right;\">\n",
       "      <th>Target</th>\n",
       "      <th>0</th>\n",
       "      <th>1</th>\n",
       "    </tr>\n",
       "    <tr>\n",
       "      <th>housing</th>\n",
       "      <th></th>\n",
       "      <th></th>\n",
       "    </tr>\n",
       "  </thead>\n",
       "  <tbody>\n",
       "    <tr>\n",
       "      <th>no</th>\n",
       "      <td>16727</td>\n",
       "      <td>3354</td>\n",
       "    </tr>\n",
       "    <tr>\n",
       "      <th>yes</th>\n",
       "      <td>23195</td>\n",
       "      <td>1935</td>\n",
       "    </tr>\n",
       "  </tbody>\n",
       "</table>\n",
       "</div>"
      ],
      "text/plain": [
       "Target       0     1\n",
       "housing             \n",
       "no       16727  3354\n",
       "yes      23195  1935"
      ]
     },
     "execution_count": 24,
     "metadata": {},
     "output_type": "execute_result"
    }
   ],
   "source": [
    "ct_housing = pd.crosstab(index = bank1['housing'],\n",
    "           columns = bank1['Target'],\n",
    "           values = bank1['Target'],\n",
    "           aggfunc = 'count')\n",
    "ct_housing"
   ]
  },
  {
   "cell_type": "code",
   "execution_count": 25,
   "id": "d2a3795b",
   "metadata": {},
   "outputs": [
    {
     "data": {
      "image/png": "[encoded data removed]",
      "text/plain": [
       "<Figure size 640x480 with 1 Axes>"
      ]
     },
     "metadata": {},
     "output_type": "display_data"
    }
   ],
   "source": [
    "ct_housing.plot(kind = 'bar',stacked = True)\n",
    "plt.show()"
   ]
  },
  {
   "cell_type": "code",
   "execution_count": 26,
   "id": "810ee2c9",
   "metadata": {},
   "outputs": [
    {
     "data": {
      "text/html": [
       "<div>\n",
       "<style scoped>\n",
       "    .dataframe tbody tr th:only-of-type {\n",
       "        vertical-align: middle;\n",
       "    }\n",
       "\n",
       "    .dataframe tbody tr th {\n",
       "        vertical-align: top;\n",
       "    }\n",
       "\n",
       "    .dataframe thead th {\n",
       "        text-align: right;\n",
       "    }\n",
       "</style>\n",
       "<table border=\"1\" class=\"dataframe\">\n",
       "  <thead>\n",
       "    <tr style=\"text-align: right;\">\n",
       "      <th>Target</th>\n",
       "      <th>0</th>\n",
       "      <th>1</th>\n",
       "    </tr>\n",
       "    <tr>\n",
       "      <th>default</th>\n",
       "      <th></th>\n",
       "      <th></th>\n",
       "    </tr>\n",
       "  </thead>\n",
       "  <tbody>\n",
       "    <tr>\n",
       "      <th>no</th>\n",
       "      <td>0.882039</td>\n",
       "      <td>0.117961</td>\n",
       "    </tr>\n",
       "    <tr>\n",
       "      <th>yes</th>\n",
       "      <td>0.936196</td>\n",
       "      <td>0.063804</td>\n",
       "    </tr>\n",
       "  </tbody>\n",
       "</table>\n",
       "</div>"
      ],
      "text/plain": [
       "Target          0         1\n",
       "default                    \n",
       "no       0.882039  0.117961\n",
       "yes      0.936196  0.063804"
      ]
     },
     "execution_count": 26,
     "metadata": {},
     "output_type": "execute_result"
    }
   ],
   "source": [
    "ct_default =pd.crosstab(index = bank1['default'],\n",
    "           columns = bank1['Target'],\n",
    "           values = bank1['Target'],\n",
    "           aggfunc = 'count',\n",
    "            normalize='index')\n",
    "ct_default"
   ]
  },
  {
   "cell_type": "code",
   "execution_count": 27,
   "id": "1621e033",
   "metadata": {},
   "outputs": [
    {
     "data": {
      "image/png": "[encoded data removed]",
      "text/plain": [
       "<Figure size 640x480 with 1 Axes>"
      ]
     },
     "metadata": {},
     "output_type": "display_data"
    }
   ],
   "source": [
    "ct_default.plot(kind = 'bar',stacked = True)\n",
    "plt.show()"
   ]
  },
  {
   "cell_type": "code",
   "execution_count": 28,
   "id": "9f3a447c",
   "metadata": {},
   "outputs": [
    {
     "data": {
      "text/html": [
       "<div>\n",
       "<style scoped>\n",
       "    .dataframe tbody tr th:only-of-type {\n",
       "        vertical-align: middle;\n",
       "    }\n",
       "\n",
       "    .dataframe tbody tr th {\n",
       "        vertical-align: top;\n",
       "    }\n",
       "\n",
       "    .dataframe thead th {\n",
       "        text-align: right;\n",
       "    }\n",
       "</style>\n",
       "<table border=\"1\" class=\"dataframe\">\n",
       "  <thead>\n",
       "    <tr style=\"text-align: right;\">\n",
       "      <th>Target</th>\n",
       "      <th>0</th>\n",
       "      <th>1</th>\n",
       "    </tr>\n",
       "    <tr>\n",
       "      <th>education</th>\n",
       "      <th></th>\n",
       "      <th></th>\n",
       "    </tr>\n",
       "  </thead>\n",
       "  <tbody>\n",
       "    <tr>\n",
       "      <th>primary</th>\n",
       "      <td>0.913735</td>\n",
       "      <td>0.086265</td>\n",
       "    </tr>\n",
       "    <tr>\n",
       "      <th>secondary</th>\n",
       "      <td>0.894406</td>\n",
       "      <td>0.105594</td>\n",
       "    </tr>\n",
       "    <tr>\n",
       "      <th>tertiary</th>\n",
       "      <td>0.849936</td>\n",
       "      <td>0.150064</td>\n",
       "    </tr>\n",
       "    <tr>\n",
       "      <th>unknown</th>\n",
       "      <td>0.864297</td>\n",
       "      <td>0.135703</td>\n",
       "    </tr>\n",
       "  </tbody>\n",
       "</table>\n",
       "</div>"
      ],
      "text/plain": [
       "Target            0         1\n",
       "education                    \n",
       "primary    0.913735  0.086265\n",
       "secondary  0.894406  0.105594\n",
       "tertiary   0.849936  0.150064\n",
       "unknown    0.864297  0.135703"
      ]
     },
     "execution_count": 28,
     "metadata": {},
     "output_type": "execute_result"
    }
   ],
   "source": [
    "ct_education = pd.crosstab(index = bank1['education'],\n",
    "           columns = bank1['Target'],\n",
    "           values = bank1['Target'],\n",
    "           aggfunc = 'count',\n",
    "           normalize = 'index')\n",
    "ct_education"
   ]
  },
  {
   "cell_type": "code",
   "execution_count": 29,
   "id": "27e7a65a",
   "metadata": {},
   "outputs": [
    {
     "data": {
      "image/png": "[encoded data removed]",
      "text/plain": [
       "<Figure size 640x480 with 1 Axes>"
      ]
     },
     "metadata": {},
     "output_type": "display_data"
    }
   ],
   "source": [
    "ct_education.plot(kind = 'bar',stacked = True)\n",
    "plt.show()"
   ]
  },
  {
   "cell_type": "code",
   "execution_count": 30,
   "id": "dc87bb83",
   "metadata": {},
   "outputs": [
    {
     "data": {
      "text/html": [
       "<div>\n",
       "<style scoped>\n",
       "    .dataframe tbody tr th:only-of-type {\n",
       "        vertical-align: middle;\n",
       "    }\n",
       "\n",
       "    .dataframe tbody tr th {\n",
       "        vertical-align: top;\n",
       "    }\n",
       "\n",
       "    .dataframe thead th {\n",
       "        text-align: right;\n",
       "    }\n",
       "</style>\n",
       "<table border=\"1\" class=\"dataframe\">\n",
       "  <thead>\n",
       "    <tr style=\"text-align: right;\">\n",
       "      <th>Target</th>\n",
       "      <th>0</th>\n",
       "      <th>1</th>\n",
       "    </tr>\n",
       "    <tr>\n",
       "      <th>contact</th>\n",
       "      <th></th>\n",
       "      <th></th>\n",
       "    </tr>\n",
       "  </thead>\n",
       "  <tbody>\n",
       "    <tr>\n",
       "      <th>cellular</th>\n",
       "      <td>24916</td>\n",
       "      <td>4369</td>\n",
       "    </tr>\n",
       "    <tr>\n",
       "      <th>telephone</th>\n",
       "      <td>2516</td>\n",
       "      <td>390</td>\n",
       "    </tr>\n",
       "    <tr>\n",
       "      <th>unknown</th>\n",
       "      <td>12490</td>\n",
       "      <td>530</td>\n",
       "    </tr>\n",
       "  </tbody>\n",
       "</table>\n",
       "</div>"
      ],
      "text/plain": [
       "Target         0     1\n",
       "contact               \n",
       "cellular   24916  4369\n",
       "telephone   2516   390\n",
       "unknown    12490   530"
      ]
     },
     "execution_count": 30,
     "metadata": {},
     "output_type": "execute_result"
    }
   ],
   "source": [
    "ct_contact = pd.crosstab(index = bank1['contact'],\n",
    "           columns = bank1['Target'],\n",
    "           values = bank1['Target'],\n",
    "           aggfunc = 'count')\n",
    "ct_contact"
   ]
  },
  {
   "cell_type": "code",
   "execution_count": 31,
   "id": "f8fbd3e7",
   "metadata": {},
   "outputs": [
    {
     "data": {
      "image/png": "[encoded data removed]",
      "text/plain": [
       "<Figure size 640x480 with 1 Axes>"
      ]
     },
     "metadata": {},
     "output_type": "display_data"
    }
   ],
   "source": [
    "ct_contact.plot(kind = 'bar',stacked = True)\n",
    "plt.show()"
   ]
  },
  {
   "cell_type": "code",
   "execution_count": 32,
   "id": "dcc1d581",
   "metadata": {},
   "outputs": [
    {
     "data": {
      "text/html": [
       "<div>\n",
       "<style scoped>\n",
       "    .dataframe tbody tr th:only-of-type {\n",
       "        vertical-align: middle;\n",
       "    }\n",
       "\n",
       "    .dataframe tbody tr th {\n",
       "        vertical-align: top;\n",
       "    }\n",
       "\n",
       "    .dataframe thead th {\n",
       "        text-align: right;\n",
       "    }\n",
       "</style>\n",
       "<table border=\"1\" class=\"dataframe\">\n",
       "  <thead>\n",
       "    <tr style=\"text-align: right;\">\n",
       "      <th>Target</th>\n",
       "      <th>0</th>\n",
       "      <th>1</th>\n",
       "    </tr>\n",
       "    <tr>\n",
       "      <th>month</th>\n",
       "      <th></th>\n",
       "      <th></th>\n",
       "    </tr>\n",
       "  </thead>\n",
       "  <tbody>\n",
       "    <tr>\n",
       "      <th>apr</th>\n",
       "      <td>0.803206</td>\n",
       "      <td>0.196794</td>\n",
       "    </tr>\n",
       "    <tr>\n",
       "      <th>aug</th>\n",
       "      <td>0.889867</td>\n",
       "      <td>0.110133</td>\n",
       "    </tr>\n",
       "    <tr>\n",
       "      <th>dec</th>\n",
       "      <td>0.532710</td>\n",
       "      <td>0.467290</td>\n",
       "    </tr>\n",
       "    <tr>\n",
       "      <th>feb</th>\n",
       "      <td>0.833522</td>\n",
       "      <td>0.166478</td>\n",
       "    </tr>\n",
       "    <tr>\n",
       "      <th>jan</th>\n",
       "      <td>0.898788</td>\n",
       "      <td>0.101212</td>\n",
       "    </tr>\n",
       "    <tr>\n",
       "      <th>jul</th>\n",
       "      <td>0.909065</td>\n",
       "      <td>0.090935</td>\n",
       "    </tr>\n",
       "    <tr>\n",
       "      <th>jun</th>\n",
       "      <td>0.897772</td>\n",
       "      <td>0.102228</td>\n",
       "    </tr>\n",
       "    <tr>\n",
       "      <th>mar</th>\n",
       "      <td>0.480084</td>\n",
       "      <td>0.519916</td>\n",
       "    </tr>\n",
       "    <tr>\n",
       "      <th>may</th>\n",
       "      <td>0.932805</td>\n",
       "      <td>0.067195</td>\n",
       "    </tr>\n",
       "    <tr>\n",
       "      <th>nov</th>\n",
       "      <td>0.898489</td>\n",
       "      <td>0.101511</td>\n",
       "    </tr>\n",
       "    <tr>\n",
       "      <th>oct</th>\n",
       "      <td>0.562331</td>\n",
       "      <td>0.437669</td>\n",
       "    </tr>\n",
       "    <tr>\n",
       "      <th>sep</th>\n",
       "      <td>0.535406</td>\n",
       "      <td>0.464594</td>\n",
       "    </tr>\n",
       "  </tbody>\n",
       "</table>\n",
       "</div>"
      ],
      "text/plain": [
       "Target         0         1\n",
       "month                     \n",
       "apr     0.803206  0.196794\n",
       "aug     0.889867  0.110133\n",
       "dec     0.532710  0.467290\n",
       "feb     0.833522  0.166478\n",
       "jan     0.898788  0.101212\n",
       "jul     0.909065  0.090935\n",
       "jun     0.897772  0.102228\n",
       "mar     0.480084  0.519916\n",
       "may     0.932805  0.067195\n",
       "nov     0.898489  0.101511\n",
       "oct     0.562331  0.437669\n",
       "sep     0.535406  0.464594"
      ]
     },
     "execution_count": 32,
     "metadata": {},
     "output_type": "execute_result"
    }
   ],
   "source": [
    "ct_month = pd.crosstab(index = bank1['month'],\n",
    "           columns = bank1['Target'],\n",
    "           values = bank1['Target'],\n",
    "           aggfunc = 'count',\n",
    "           normalize='index')\n",
    "ct_month"
   ]
  },
  {
   "cell_type": "code",
   "execution_count": 33,
   "id": "b1e85cfd",
   "metadata": {},
   "outputs": [
    {
     "data": {
      "image/png": "[encoded data removed]",
      "text/plain": [
       "<Figure size 640x480 with 1 Axes>"
      ]
     },
     "metadata": {},
     "output_type": "display_data"
    }
   ],
   "source": [
    "ct_month.plot(kind = 'bar',stacked = True)\n",
    "plt.show()"
   ]
  },
  {
   "cell_type": "code",
   "execution_count": 34,
   "id": "ee674cfd",
   "metadata": {},
   "outputs": [
    {
     "data": {
      "text/html": [
       "<div>\n",
       "<style scoped>\n",
       "    .dataframe tbody tr th:only-of-type {\n",
       "        vertical-align: middle;\n",
       "    }\n",
       "\n",
       "    .dataframe tbody tr th {\n",
       "        vertical-align: top;\n",
       "    }\n",
       "\n",
       "    .dataframe thead th {\n",
       "        text-align: right;\n",
       "    }\n",
       "</style>\n",
       "<table border=\"1\" class=\"dataframe\">\n",
       "  <thead>\n",
       "    <tr style=\"text-align: right;\">\n",
       "      <th>Target</th>\n",
       "      <th>0</th>\n",
       "      <th>1</th>\n",
       "    </tr>\n",
       "    <tr>\n",
       "      <th>poutcome</th>\n",
       "      <th></th>\n",
       "      <th></th>\n",
       "    </tr>\n",
       "  </thead>\n",
       "  <tbody>\n",
       "    <tr>\n",
       "      <th>failure</th>\n",
       "      <td>4283</td>\n",
       "      <td>618</td>\n",
       "    </tr>\n",
       "    <tr>\n",
       "      <th>other</th>\n",
       "      <td>1533</td>\n",
       "      <td>307</td>\n",
       "    </tr>\n",
       "    <tr>\n",
       "      <th>success</th>\n",
       "      <td>533</td>\n",
       "      <td>978</td>\n",
       "    </tr>\n",
       "    <tr>\n",
       "      <th>unknown</th>\n",
       "      <td>33573</td>\n",
       "      <td>3386</td>\n",
       "    </tr>\n",
       "  </tbody>\n",
       "</table>\n",
       "</div>"
      ],
      "text/plain": [
       "Target        0     1\n",
       "poutcome             \n",
       "failure    4283   618\n",
       "other      1533   307\n",
       "success     533   978\n",
       "unknown   33573  3386"
      ]
     },
     "execution_count": 34,
     "metadata": {},
     "output_type": "execute_result"
    }
   ],
   "source": [
    "ct_poutcome = pd.crosstab(index = bank1['poutcome'],\n",
    "           columns = bank1['Target'],\n",
    "           values = bank1['Target'],\n",
    "           aggfunc = 'count')\n",
    "ct_poutcome"
   ]
  },
  {
   "cell_type": "code",
   "execution_count": 35,
   "id": "ad018c97",
   "metadata": {},
   "outputs": [
    {
     "data": {
      "image/png": "[encoded data removed]",
      "text/plain": [
       "<Figure size 640x480 with 1 Axes>"
      ]
     },
     "metadata": {},
     "output_type": "display_data"
    }
   ],
   "source": [
    "ct_poutcome.plot(kind = 'bar',stacked = True)\n",
    "plt.show()"
   ]
  },
  {
   "cell_type": "code",
   "execution_count": 36,
   "id": "ecaea618",
   "metadata": {},
   "outputs": [
    {
     "data": {
      "text/plain": [
       "<Axes: xlabel='Target', ylabel='age'>"
      ]
     },
     "execution_count": 36,
     "metadata": {},
     "output_type": "execute_result"
    },
    {
     "data": {
      "image/png": "[encoded data removed]",
      "text/plain": [
       "<Figure size 640x480 with 1 Axes>"
      ]
     },
     "metadata": {},
     "output_type": "display_data"
    }
   ],
   "source": [
    "#Let's plot a boxplot with Target and Age:\n",
    "sns.boxplot(x = bank1['Target'] , y = bank1['age'])"
   ]
  },
  {
   "cell_type": "markdown",
   "id": "2d413e8e",
   "metadata": {},
   "source": [
    "## Model Building"
   ]
  },
  {
   "cell_type": "code",
   "execution_count": 37,
   "id": "ab03d0cb",
   "metadata": {},
   "outputs": [],
   "source": [
    "X = bank1.drop(['Target'],axis = 1)\n",
    "\n",
    "Y = bank1['Target']"
   ]
  },
  {
   "cell_type": "code",
   "execution_count": 38,
   "id": "1e5ff666",
   "metadata": {},
   "outputs": [],
   "source": [
    "X = pd.get_dummies(X,drop_first = True)"
   ]
  },
  {
   "cell_type": "code",
   "execution_count": 39,
   "id": "f8d48401",
   "metadata": {},
   "outputs": [
    {
     "data": {
      "text/html": [
       "<div>\n",
       "<style scoped>\n",
       "    .dataframe tbody tr th:only-of-type {\n",
       "        vertical-align: middle;\n",
       "    }\n",
       "\n",
       "    .dataframe tbody tr th {\n",
       "        vertical-align: top;\n",
       "    }\n",
       "\n",
       "    .dataframe thead th {\n",
       "        text-align: right;\n",
       "    }\n",
       "</style>\n",
       "<table border=\"1\" class=\"dataframe\">\n",
       "  <thead>\n",
       "    <tr style=\"text-align: right;\">\n",
       "      <th></th>\n",
       "      <th>age</th>\n",
       "      <th>balance</th>\n",
       "      <th>day</th>\n",
       "      <th>duration</th>\n",
       "      <th>campaign</th>\n",
       "      <th>pdays</th>\n",
       "      <th>previous</th>\n",
       "      <th>job_blue-collar</th>\n",
       "      <th>job_entrepreneur</th>\n",
       "      <th>job_housemaid</th>\n",
       "      <th>...</th>\n",
       "      <th>month_jul</th>\n",
       "      <th>month_jun</th>\n",
       "      <th>month_mar</th>\n",
       "      <th>month_may</th>\n",
       "      <th>month_nov</th>\n",
       "      <th>month_oct</th>\n",
       "      <th>month_sep</th>\n",
       "      <th>poutcome_other</th>\n",
       "      <th>poutcome_success</th>\n",
       "      <th>poutcome_unknown</th>\n",
       "    </tr>\n",
       "  </thead>\n",
       "  <tbody>\n",
       "    <tr>\n",
       "      <th>0</th>\n",
       "      <td>58</td>\n",
       "      <td>2143</td>\n",
       "      <td>5</td>\n",
       "      <td>261</td>\n",
       "      <td>1</td>\n",
       "      <td>-1</td>\n",
       "      <td>0</td>\n",
       "      <td>0</td>\n",
       "      <td>0</td>\n",
       "      <td>0</td>\n",
       "      <td>...</td>\n",
       "      <td>0</td>\n",
       "      <td>0</td>\n",
       "      <td>0</td>\n",
       "      <td>1</td>\n",
       "      <td>0</td>\n",
       "      <td>0</td>\n",
       "      <td>0</td>\n",
       "      <td>0</td>\n",
       "      <td>0</td>\n",
       "      <td>1</td>\n",
       "    </tr>\n",
       "    <tr>\n",
       "      <th>1</th>\n",
       "      <td>44</td>\n",
       "      <td>29</td>\n",
       "      <td>5</td>\n",
       "      <td>151</td>\n",
       "      <td>1</td>\n",
       "      <td>-1</td>\n",
       "      <td>0</td>\n",
       "      <td>0</td>\n",
       "      <td>0</td>\n",
       "      <td>0</td>\n",
       "      <td>...</td>\n",
       "      <td>0</td>\n",
       "      <td>0</td>\n",
       "      <td>0</td>\n",
       "      <td>1</td>\n",
       "      <td>0</td>\n",
       "      <td>0</td>\n",
       "      <td>0</td>\n",
       "      <td>0</td>\n",
       "      <td>0</td>\n",
       "      <td>1</td>\n",
       "    </tr>\n",
       "    <tr>\n",
       "      <th>2</th>\n",
       "      <td>33</td>\n",
       "      <td>2</td>\n",
       "      <td>5</td>\n",
       "      <td>76</td>\n",
       "      <td>1</td>\n",
       "      <td>-1</td>\n",
       "      <td>0</td>\n",
       "      <td>0</td>\n",
       "      <td>1</td>\n",
       "      <td>0</td>\n",
       "      <td>...</td>\n",
       "      <td>0</td>\n",
       "      <td>0</td>\n",
       "      <td>0</td>\n",
       "      <td>1</td>\n",
       "      <td>0</td>\n",
       "      <td>0</td>\n",
       "      <td>0</td>\n",
       "      <td>0</td>\n",
       "      <td>0</td>\n",
       "      <td>1</td>\n",
       "    </tr>\n",
       "    <tr>\n",
       "      <th>3</th>\n",
       "      <td>47</td>\n",
       "      <td>1506</td>\n",
       "      <td>5</td>\n",
       "      <td>92</td>\n",
       "      <td>1</td>\n",
       "      <td>-1</td>\n",
       "      <td>0</td>\n",
       "      <td>1</td>\n",
       "      <td>0</td>\n",
       "      <td>0</td>\n",
       "      <td>...</td>\n",
       "      <td>0</td>\n",
       "      <td>0</td>\n",
       "      <td>0</td>\n",
       "      <td>1</td>\n",
       "      <td>0</td>\n",
       "      <td>0</td>\n",
       "      <td>0</td>\n",
       "      <td>0</td>\n",
       "      <td>0</td>\n",
       "      <td>1</td>\n",
       "    </tr>\n",
       "    <tr>\n",
       "      <th>4</th>\n",
       "      <td>33</td>\n",
       "      <td>1</td>\n",
       "      <td>5</td>\n",
       "      <td>198</td>\n",
       "      <td>1</td>\n",
       "      <td>-1</td>\n",
       "      <td>0</td>\n",
       "      <td>0</td>\n",
       "      <td>0</td>\n",
       "      <td>0</td>\n",
       "      <td>...</td>\n",
       "      <td>0</td>\n",
       "      <td>0</td>\n",
       "      <td>0</td>\n",
       "      <td>1</td>\n",
       "      <td>0</td>\n",
       "      <td>0</td>\n",
       "      <td>0</td>\n",
       "      <td>0</td>\n",
       "      <td>0</td>\n",
       "      <td>1</td>\n",
       "    </tr>\n",
       "  </tbody>\n",
       "</table>\n",
       "<p>5 rows × 42 columns</p>\n",
       "</div>"
      ],
      "text/plain": [
       "   age  balance  day  duration  campaign  pdays  previous  job_blue-collar  \\\n",
       "0   58     2143    5       261         1     -1         0                0   \n",
       "1   44       29    5       151         1     -1         0                0   \n",
       "2   33        2    5        76         1     -1         0                0   \n",
       "3   47     1506    5        92         1     -1         0                1   \n",
       "4   33        1    5       198         1     -1         0                0   \n",
       "\n",
       "   job_entrepreneur  job_housemaid  ...  month_jul  month_jun  month_mar  \\\n",
       "0                 0              0  ...          0          0          0   \n",
       "1                 0              0  ...          0          0          0   \n",
       "2                 1              0  ...          0          0          0   \n",
       "3                 0              0  ...          0          0          0   \n",
       "4                 0              0  ...          0          0          0   \n",
       "\n",
       "   month_may  month_nov  month_oct  month_sep  poutcome_other  \\\n",
       "0          1          0          0          0               0   \n",
       "1          1          0          0          0               0   \n",
       "2          1          0          0          0               0   \n",
       "3          1          0          0          0               0   \n",
       "4          1          0          0          0               0   \n",
       "\n",
       "   poutcome_success  poutcome_unknown  \n",
       "0                 0                 1  \n",
       "1                 0                 1  \n",
       "2                 0                 1  \n",
       "3                 0                 1  \n",
       "4                 0                 1  \n",
       "\n",
       "[5 rows x 42 columns]"
      ]
     },
     "execution_count": 39,
     "metadata": {},
     "output_type": "execute_result"
    }
   ],
   "source": [
    "X.head()"
   ]
  },
  {
   "cell_type": "code",
   "execution_count": 40,
   "id": "f79e39ab",
   "metadata": {},
   "outputs": [],
   "source": [
    "#Checking for Multi-coliniarity:\n",
    "def vif_cal(input_data):\n",
    "    x_var = input_data\n",
    "    x_cols = input_data.columns\n",
    "    for i in range(0,x_cols.shape[0]):\n",
    "        y = x_var[x_cols[i]]\n",
    "        x = x_var[x_cols.drop(x_cols[i])]\n",
    "        rsq = smf.ols(formula = 'y~x',data = x_var).fit().rsquared\n",
    "        vif = round(1/(1-rsq),2)\n",
    "        print(x_cols[i], 'VIF = ', vif)"
   ]
  },
  {
   "cell_type": "code",
   "execution_count": 41,
   "id": "06af555d",
   "metadata": {},
   "outputs": [
    {
     "name": "stdout",
     "output_type": "stream",
     "text": [
      "age VIF =  1.72\n",
      "balance VIF =  1.05\n",
      "day VIF =  1.35\n",
      "duration VIF =  1.02\n",
      "campaign VIF =  1.12\n",
      "pdays VIF =  4.68\n",
      "previous VIF =  1.41\n",
      "job_blue-collar VIF =  2.51\n",
      "job_entrepreneur VIF =  1.31\n",
      "job_housemaid VIF =  1.29\n",
      "job_management VIF =  3.03\n",
      "job_retired VIF =  1.71\n",
      "job_self-employed VIF =  1.32\n",
      "job_services VIF =  1.65\n",
      "job_student VIF =  1.26\n",
      "job_technician VIF =  2.12\n",
      "job_unemployed VIF =  1.25\n",
      "job_unknown VIF =  1.09\n",
      "marital_married VIF =  2.54\n",
      "marital_single VIF =  2.88\n",
      "education_secondary VIF =  2.61\n",
      "education_tertiary VIF =  3.39\n",
      "education_unknown VIF =  1.3\n",
      "default_yes VIF =  1.02\n",
      "housing_yes VIF =  1.46\n",
      "loan_yes VIF =  1.06\n",
      "contact_telephone VIF =  1.1\n",
      "contact_unknown VIF =  2.43\n",
      "month_aug VIF =  3.11\n",
      "month_dec VIF =  1.08\n",
      "month_feb VIF =  1.98\n",
      "month_jan VIF =  1.52\n",
      "month_jul VIF =  3.09\n",
      "month_jun VIF =  3.51\n",
      "month_mar VIF =  1.17\n",
      "month_may VIF =  4.78\n",
      "month_nov VIF =  2.23\n",
      "month_oct VIF =  1.27\n",
      "month_sep VIF =  1.23\n",
      "poutcome_other VIF =  1.34\n",
      "poutcome_success VIF =  1.4\n",
      "poutcome_unknown VIF =  6.24\n"
     ]
    }
   ],
   "source": [
    "vif_cal(X)"
   ]
  },
  {
   "cell_type": "code",
   "execution_count": 42,
   "id": "ff0e9731",
   "metadata": {},
   "outputs": [
    {
     "data": {
      "text/html": [
       "<div>\n",
       "<style scoped>\n",
       "    .dataframe tbody tr th:only-of-type {\n",
       "        vertical-align: middle;\n",
       "    }\n",
       "\n",
       "    .dataframe tbody tr th {\n",
       "        vertical-align: top;\n",
       "    }\n",
       "\n",
       "    .dataframe thead th {\n",
       "        text-align: right;\n",
       "    }\n",
       "</style>\n",
       "<table border=\"1\" class=\"dataframe\">\n",
       "  <thead>\n",
       "    <tr style=\"text-align: right;\">\n",
       "      <th></th>\n",
       "      <th>age</th>\n",
       "      <th>balance</th>\n",
       "      <th>day</th>\n",
       "      <th>duration</th>\n",
       "      <th>campaign</th>\n",
       "      <th>pdays</th>\n",
       "      <th>previous</th>\n",
       "      <th>job_blue-collar</th>\n",
       "      <th>job_entrepreneur</th>\n",
       "      <th>job_housemaid</th>\n",
       "      <th>...</th>\n",
       "      <th>month_jul</th>\n",
       "      <th>month_jun</th>\n",
       "      <th>month_mar</th>\n",
       "      <th>month_may</th>\n",
       "      <th>month_nov</th>\n",
       "      <th>month_oct</th>\n",
       "      <th>month_sep</th>\n",
       "      <th>poutcome_other</th>\n",
       "      <th>poutcome_success</th>\n",
       "      <th>poutcome_unknown</th>\n",
       "    </tr>\n",
       "  </thead>\n",
       "  <tbody>\n",
       "    <tr>\n",
       "      <th>0</th>\n",
       "      <td>1.606965</td>\n",
       "      <td>0.256419</td>\n",
       "      <td>-1.298476</td>\n",
       "      <td>0.011016</td>\n",
       "      <td>-0.569351</td>\n",
       "      <td>-0.411453</td>\n",
       "      <td>-0.25194</td>\n",
       "      <td>-0.523740</td>\n",
       "      <td>-0.184415</td>\n",
       "      <td>-0.16793</td>\n",
       "      <td>...</td>\n",
       "      <td>-0.424206</td>\n",
       "      <td>-0.366006</td>\n",
       "      <td>-0.103262</td>\n",
       "      <td>1.511374</td>\n",
       "      <td>-0.310263</td>\n",
       "      <td>-0.128819</td>\n",
       "      <td>-0.113898</td>\n",
       "      <td>-0.205972</td>\n",
       "      <td>-0.185948</td>\n",
       "      <td>0.472519</td>\n",
       "    </tr>\n",
       "    <tr>\n",
       "      <th>1</th>\n",
       "      <td>0.288529</td>\n",
       "      <td>-0.437895</td>\n",
       "      <td>-1.298476</td>\n",
       "      <td>-0.416127</td>\n",
       "      <td>-0.569351</td>\n",
       "      <td>-0.411453</td>\n",
       "      <td>-0.25194</td>\n",
       "      <td>-0.523740</td>\n",
       "      <td>-0.184415</td>\n",
       "      <td>-0.16793</td>\n",
       "      <td>...</td>\n",
       "      <td>-0.424206</td>\n",
       "      <td>-0.366006</td>\n",
       "      <td>-0.103262</td>\n",
       "      <td>1.511374</td>\n",
       "      <td>-0.310263</td>\n",
       "      <td>-0.128819</td>\n",
       "      <td>-0.113898</td>\n",
       "      <td>-0.205972</td>\n",
       "      <td>-0.185948</td>\n",
       "      <td>0.472519</td>\n",
       "    </tr>\n",
       "    <tr>\n",
       "      <th>2</th>\n",
       "      <td>-0.747384</td>\n",
       "      <td>-0.446762</td>\n",
       "      <td>-1.298476</td>\n",
       "      <td>-0.707361</td>\n",
       "      <td>-0.569351</td>\n",
       "      <td>-0.411453</td>\n",
       "      <td>-0.25194</td>\n",
       "      <td>-0.523740</td>\n",
       "      <td>5.422561</td>\n",
       "      <td>-0.16793</td>\n",
       "      <td>...</td>\n",
       "      <td>-0.424206</td>\n",
       "      <td>-0.366006</td>\n",
       "      <td>-0.103262</td>\n",
       "      <td>1.511374</td>\n",
       "      <td>-0.310263</td>\n",
       "      <td>-0.128819</td>\n",
       "      <td>-0.113898</td>\n",
       "      <td>-0.205972</td>\n",
       "      <td>-0.185948</td>\n",
       "      <td>0.472519</td>\n",
       "    </tr>\n",
       "    <tr>\n",
       "      <th>3</th>\n",
       "      <td>0.571051</td>\n",
       "      <td>0.047205</td>\n",
       "      <td>-1.298476</td>\n",
       "      <td>-0.645231</td>\n",
       "      <td>-0.569351</td>\n",
       "      <td>-0.411453</td>\n",
       "      <td>-0.25194</td>\n",
       "      <td>1.909346</td>\n",
       "      <td>-0.184415</td>\n",
       "      <td>-0.16793</td>\n",
       "      <td>...</td>\n",
       "      <td>-0.424206</td>\n",
       "      <td>-0.366006</td>\n",
       "      <td>-0.103262</td>\n",
       "      <td>1.511374</td>\n",
       "      <td>-0.310263</td>\n",
       "      <td>-0.128819</td>\n",
       "      <td>-0.113898</td>\n",
       "      <td>-0.205972</td>\n",
       "      <td>-0.185948</td>\n",
       "      <td>0.472519</td>\n",
       "    </tr>\n",
       "    <tr>\n",
       "      <th>4</th>\n",
       "      <td>-0.747384</td>\n",
       "      <td>-0.447091</td>\n",
       "      <td>-1.298476</td>\n",
       "      <td>-0.233620</td>\n",
       "      <td>-0.569351</td>\n",
       "      <td>-0.411453</td>\n",
       "      <td>-0.25194</td>\n",
       "      <td>-0.523740</td>\n",
       "      <td>-0.184415</td>\n",
       "      <td>-0.16793</td>\n",
       "      <td>...</td>\n",
       "      <td>-0.424206</td>\n",
       "      <td>-0.366006</td>\n",
       "      <td>-0.103262</td>\n",
       "      <td>1.511374</td>\n",
       "      <td>-0.310263</td>\n",
       "      <td>-0.128819</td>\n",
       "      <td>-0.113898</td>\n",
       "      <td>-0.205972</td>\n",
       "      <td>-0.185948</td>\n",
       "      <td>0.472519</td>\n",
       "    </tr>\n",
       "  </tbody>\n",
       "</table>\n",
       "<p>5 rows × 42 columns</p>\n",
       "</div>"
      ],
      "text/plain": [
       "        age   balance       day  duration  campaign     pdays  previous  \\\n",
       "0  1.606965  0.256419 -1.298476  0.011016 -0.569351 -0.411453  -0.25194   \n",
       "1  0.288529 -0.437895 -1.298476 -0.416127 -0.569351 -0.411453  -0.25194   \n",
       "2 -0.747384 -0.446762 -1.298476 -0.707361 -0.569351 -0.411453  -0.25194   \n",
       "3  0.571051  0.047205 -1.298476 -0.645231 -0.569351 -0.411453  -0.25194   \n",
       "4 -0.747384 -0.447091 -1.298476 -0.233620 -0.569351 -0.411453  -0.25194   \n",
       "\n",
       "   job_blue-collar  job_entrepreneur  job_housemaid  ...  month_jul  \\\n",
       "0        -0.523740         -0.184415       -0.16793  ...  -0.424206   \n",
       "1        -0.523740         -0.184415       -0.16793  ...  -0.424206   \n",
       "2        -0.523740          5.422561       -0.16793  ...  -0.424206   \n",
       "3         1.909346         -0.184415       -0.16793  ...  -0.424206   \n",
       "4        -0.523740         -0.184415       -0.16793  ...  -0.424206   \n",
       "\n",
       "   month_jun  month_mar  month_may  month_nov  month_oct  month_sep  \\\n",
       "0  -0.366006  -0.103262   1.511374  -0.310263  -0.128819  -0.113898   \n",
       "1  -0.366006  -0.103262   1.511374  -0.310263  -0.128819  -0.113898   \n",
       "2  -0.366006  -0.103262   1.511374  -0.310263  -0.128819  -0.113898   \n",
       "3  -0.366006  -0.103262   1.511374  -0.310263  -0.128819  -0.113898   \n",
       "4  -0.366006  -0.103262   1.511374  -0.310263  -0.128819  -0.113898   \n",
       "\n",
       "   poutcome_other  poutcome_success  poutcome_unknown  \n",
       "0       -0.205972         -0.185948          0.472519  \n",
       "1       -0.205972         -0.185948          0.472519  \n",
       "2       -0.205972         -0.185948          0.472519  \n",
       "3       -0.205972         -0.185948          0.472519  \n",
       "4       -0.205972         -0.185948          0.472519  \n",
       "\n",
       "[5 rows x 42 columns]"
      ]
     },
     "execution_count": 42,
     "metadata": {},
     "output_type": "execute_result"
    }
   ],
   "source": [
    "#Z-score normlization:\n",
    "scaler = StandardScaler()\n",
    "X_trans = scaler.fit_transform(X)\n",
    "X = pd.DataFrame(X_trans, columns=X.columns)\n",
    "X.head()\n"
   ]
  },
  {
   "cell_type": "code",
   "execution_count": 43,
   "id": "b4d1de8b",
   "metadata": {},
   "outputs": [
    {
     "name": "stdout",
     "output_type": "stream",
     "text": [
      "Optimization terminated successfully.\n",
      "         Current function value: 0.238463\n",
      "         Iterations 8\n"
     ]
    }
   ],
   "source": [
    "#Logistic Regression using stats model:\n",
    "logreg = sm.Logit(Y,sm.add_constant(X))\n",
    "model1 = logreg.fit()"
   ]
  },
  {
   "cell_type": "code",
   "execution_count": 44,
   "id": "a78252ea",
   "metadata": {},
   "outputs": [
    {
     "name": "stdout",
     "output_type": "stream",
     "text": [
      "                           Logit Regression Results                           \n",
      "==============================================================================\n",
      "Dep. Variable:                 Target   No. Observations:                45211\n",
      "Model:                          Logit   Df Residuals:                    45168\n",
      "Method:                           MLE   Df Model:                           42\n",
      "Date:                Sat, 26 Aug 2023   Pseudo R-squ.:                  0.3392\n",
      "Time:                        01:55:55   Log-Likelihood:                -10781.\n",
      "converged:                       True   LL-Null:                       -16315.\n",
      "Covariance Type:            nonrobust   LLR p-value:                     0.000\n",
      "=======================================================================================\n",
      "                          coef    std err          z      P>|z|      [0.025      0.975]\n",
      "---------------------------------------------------------------------------------------\n",
      "const                  -2.8437      0.025   -111.665      0.000      -2.894      -2.794\n",
      "age                     0.0012      0.023      0.051      0.959      -0.045       0.047\n",
      "balance                 0.0391      0.016      2.493      0.013       0.008       0.070\n",
      "day                     0.0830      0.021      3.993      0.000       0.042       0.124\n",
      "duration                1.0800      0.017     64.985      0.000       1.047       1.113\n",
      "campaign               -0.2812      0.031     -8.955      0.000      -0.343      -0.220\n",
      "pdays                  -0.0103      0.031     -0.335      0.737      -0.070       0.050\n",
      "previous                0.0234      0.015      1.561      0.118      -0.006       0.053\n",
      "job_blue-collar        -0.1274      0.030     -4.264      0.000      -0.186      -0.069\n",
      "job_entrepreneur       -0.0637      0.022     -2.844      0.004      -0.108      -0.020\n",
      "job_housemaid          -0.0823      0.022     -3.693      0.000      -0.126      -0.039\n",
      "job_management         -0.0672      0.030     -2.255      0.024      -0.126      -0.009\n",
      "job_retired             0.0550      0.021      2.596      0.009       0.013       0.097\n",
      "job_self-employed      -0.0548      0.021     -2.664      0.008      -0.095      -0.014\n",
      "job_services           -0.0646      0.024     -2.662      0.008      -0.112      -0.017\n",
      "job_student             0.0545      0.016      3.505      0.000       0.024       0.085\n",
      "job_technician         -0.0658      0.026     -2.553      0.011      -0.116      -0.015\n",
      "job_unemployed         -0.0296      0.019     -1.583      0.113      -0.066       0.007\n",
      "job_unknown            -0.0249      0.019     -1.342      0.180      -0.061       0.011\n",
      "marital_married        -0.0878      0.029     -3.046      0.002      -0.144      -0.031\n",
      "marital_single          0.0417      0.030      1.375      0.169      -0.018       0.101\n",
      "education_secondary     0.0917      0.032      2.833      0.005       0.028       0.155\n",
      "education_tertiary      0.1727      0.034      5.031      0.000       0.105       0.240\n",
      "education_unknown       0.0497      0.021      2.411      0.016       0.009       0.090\n",
      "default_yes            -0.0022      0.022     -0.102      0.918      -0.045       0.040\n",
      "housing_yes            -0.3356      0.022    -15.395      0.000      -0.378      -0.293\n",
      "loan_yes               -0.1560      0.022     -7.091      0.000      -0.199      -0.113\n",
      "contact_telephone      -0.0401      0.018     -2.173      0.030      -0.076      -0.004\n",
      "contact_unknown        -0.7350      0.033    -22.183      0.000      -0.800      -0.670\n",
      "month_aug              -0.2395      0.027     -8.842      0.000      -0.293      -0.186\n",
      "month_dec               0.0474      0.012      3.912      0.000       0.024       0.071\n",
      "month_feb              -0.0346      0.021     -1.648      0.099      -0.076       0.007\n",
      "month_jan              -0.2188      0.021    -10.367      0.000      -0.260      -0.177\n",
      "month_jul              -0.2987      0.028    -10.733      0.000      -0.353      -0.244\n",
      "month_jun               0.1464      0.030      4.843      0.000       0.087       0.206\n",
      "month_mar               0.1624      0.012     13.265      0.000       0.138       0.186\n",
      "month_may              -0.1837      0.033     -5.521      0.000      -0.249      -0.118\n",
      "month_nov              -0.2472      0.024    -10.347      0.000      -0.294      -0.200\n",
      "month_oct               0.1117      0.014      8.159      0.000       0.085       0.139\n",
      "month_sep               0.0983      0.013      7.314      0.000       0.072       0.125\n",
      "poutcome_other          0.0402      0.018      2.265      0.024       0.005       0.075\n",
      "poutcome_success        0.4118      0.015     27.821      0.000       0.383       0.441\n",
      "poutcome_unknown       -0.0355      0.036     -0.982      0.326      -0.106       0.035\n",
      "=======================================================================================\n"
     ]
    }
   ],
   "source": [
    "print(model1.summary())"
   ]
  },
  {
   "cell_type": "code",
   "execution_count": 45,
   "id": "a31f6763",
   "metadata": {},
   "outputs": [
    {
     "name": "stdout",
     "output_type": "stream",
     "text": [
      "age VIF =  1.72\n",
      "balance VIF =  1.05\n",
      "day VIF =  1.34\n",
      "duration VIF =  1.02\n",
      "campaign VIF =  1.12\n",
      "previous VIF =  1.2\n",
      "job_blue-collar VIF =  2.51\n",
      "job_entrepreneur VIF =  1.3\n",
      "job_housemaid VIF =  1.29\n",
      "job_management VIF =  3.03\n",
      "job_retired VIF =  1.7\n",
      "job_self-employed VIF =  1.32\n",
      "job_services VIF =  1.65\n",
      "job_student VIF =  1.26\n",
      "job_technician VIF =  2.12\n",
      "job_unemployed VIF =  1.24\n",
      "job_unknown VIF =  1.09\n",
      "marital_married VIF =  2.54\n",
      "marital_single VIF =  2.88\n",
      "education_secondary VIF =  2.6\n",
      "education_tertiary VIF =  3.39\n",
      "education_unknown VIF =  1.3\n",
      "default_yes VIF =  1.01\n",
      "housing_yes VIF =  1.44\n",
      "loan_yes VIF =  1.06\n",
      "contact_telephone VIF =  1.09\n",
      "contact_unknown VIF =  2.24\n",
      "month_aug VIF =  3.05\n",
      "month_dec VIF =  1.08\n",
      "month_feb VIF =  1.97\n",
      "month_jan VIF =  1.52\n",
      "month_jul VIF =  3.01\n",
      "month_jun VIF =  3.51\n",
      "month_mar VIF =  1.17\n",
      "month_may VIF =  4.77\n",
      "month_nov VIF =  2.19\n",
      "month_oct VIF =  1.27\n",
      "month_sep VIF =  1.23\n",
      "poutcome_other VIF =  1.15\n",
      "poutcome_success VIF =  1.11\n"
     ]
    }
   ],
   "source": [
    "#Lets remove columns with VIF > 5 and try again:\n",
    "X.drop(['pdays','poutcome_unknown'],axis = 1,inplace=True)\n",
    "vif_cal(X)"
   ]
  },
  {
   "cell_type": "code",
   "execution_count": 46,
   "id": "62d912fa",
   "metadata": {},
   "outputs": [
    {
     "name": "stdout",
     "output_type": "stream",
     "text": [
      "Optimization terminated successfully.\n",
      "         Current function value: 0.238478\n",
      "         Iterations 8\n"
     ]
    }
   ],
   "source": [
    "logreg = sm.Logit(Y,sm.add_constant(X))\n",
    "model2 = logreg.fit()"
   ]
  },
  {
   "cell_type": "code",
   "execution_count": 47,
   "id": "8246dd96",
   "metadata": {},
   "outputs": [
    {
     "data": {
      "text/html": [
       "<table class=\"simpletable\">\n",
       "<caption>Logit Regression Results</caption>\n",
       "<tr>\n",
       "  <th>Dep. Variable:</th>        <td>Target</td>      <th>  No. Observations:  </th>  <td> 45211</td> \n",
       "</tr>\n",
       "<tr>\n",
       "  <th>Model:</th>                 <td>Logit</td>      <th>  Df Residuals:      </th>  <td> 45170</td> \n",
       "</tr>\n",
       "<tr>\n",
       "  <th>Method:</th>                 <td>MLE</td>       <th>  Df Model:          </th>  <td>    40</td> \n",
       "</tr>\n",
       "<tr>\n",
       "  <th>Date:</th>            <td>Sat, 26 Aug 2023</td> <th>  Pseudo R-squ.:     </th>  <td>0.3392</td> \n",
       "</tr>\n",
       "<tr>\n",
       "  <th>Time:</th>                <td>01:55:59</td>     <th>  Log-Likelihood:    </th> <td> -10782.</td>\n",
       "</tr>\n",
       "<tr>\n",
       "  <th>converged:</th>             <td>True</td>       <th>  LL-Null:           </th> <td> -16315.</td>\n",
       "</tr>\n",
       "<tr>\n",
       "  <th>Covariance Type:</th>     <td>nonrobust</td>    <th>  LLR p-value:       </th>  <td> 0.000</td> \n",
       "</tr>\n",
       "</table>\n",
       "<table class=\"simpletable\">\n",
       "<tr>\n",
       "           <td></td>              <th>coef</th>     <th>std err</th>      <th>z</th>      <th>P>|z|</th>  <th>[0.025</th>    <th>0.975]</th>  \n",
       "</tr>\n",
       "<tr>\n",
       "  <th>const</th>               <td>   -2.8433</td> <td>    0.025</td> <td> -111.709</td> <td> 0.000</td> <td>   -2.893</td> <td>   -2.793</td>\n",
       "</tr>\n",
       "<tr>\n",
       "  <th>age</th>                 <td>    0.0018</td> <td>    0.023</td> <td>    0.078</td> <td> 0.938</td> <td>   -0.044</td> <td>    0.048</td>\n",
       "</tr>\n",
       "<tr>\n",
       "  <th>balance</th>             <td>    0.0391</td> <td>    0.016</td> <td>    2.495</td> <td> 0.013</td> <td>    0.008</td> <td>    0.070</td>\n",
       "</tr>\n",
       "<tr>\n",
       "  <th>day</th>                 <td>    0.0825</td> <td>    0.021</td> <td>    3.969</td> <td> 0.000</td> <td>    0.042</td> <td>    0.123</td>\n",
       "</tr>\n",
       "<tr>\n",
       "  <th>duration</th>            <td>    1.0792</td> <td>    0.017</td> <td>   65.017</td> <td> 0.000</td> <td>    1.047</td> <td>    1.112</td>\n",
       "</tr>\n",
       "<tr>\n",
       "  <th>campaign</th>            <td>   -0.2828</td> <td>    0.031</td> <td>   -9.007</td> <td> 0.000</td> <td>   -0.344</td> <td>   -0.221</td>\n",
       "</tr>\n",
       "<tr>\n",
       "  <th>previous</th>            <td>    0.0293</td> <td>    0.016</td> <td>    1.864</td> <td> 0.062</td> <td>   -0.002</td> <td>    0.060</td>\n",
       "</tr>\n",
       "<tr>\n",
       "  <th>job_blue-collar</th>     <td>   -0.1276</td> <td>    0.030</td> <td>   -4.274</td> <td> 0.000</td> <td>   -0.186</td> <td>   -0.069</td>\n",
       "</tr>\n",
       "<tr>\n",
       "  <th>job_entrepreneur</th>    <td>   -0.0638</td> <td>    0.022</td> <td>   -2.847</td> <td> 0.004</td> <td>   -0.108</td> <td>   -0.020</td>\n",
       "</tr>\n",
       "<tr>\n",
       "  <th>job_housemaid</th>       <td>   -0.0821</td> <td>    0.022</td> <td>   -3.686</td> <td> 0.000</td> <td>   -0.126</td> <td>   -0.038</td>\n",
       "</tr>\n",
       "<tr>\n",
       "  <th>job_management</th>      <td>   -0.0674</td> <td>    0.030</td> <td>   -2.261</td> <td> 0.024</td> <td>   -0.126</td> <td>   -0.009</td>\n",
       "</tr>\n",
       "<tr>\n",
       "  <th>job_retired</th>         <td>    0.0549</td> <td>    0.021</td> <td>    2.591</td> <td> 0.010</td> <td>    0.013</td> <td>    0.096</td>\n",
       "</tr>\n",
       "<tr>\n",
       "  <th>job_self-employed</th>   <td>   -0.0548</td> <td>    0.021</td> <td>   -2.666</td> <td> 0.008</td> <td>   -0.095</td> <td>   -0.015</td>\n",
       "</tr>\n",
       "<tr>\n",
       "  <th>job_services</th>        <td>   -0.0650</td> <td>    0.024</td> <td>   -2.675</td> <td> 0.007</td> <td>   -0.113</td> <td>   -0.017</td>\n",
       "</tr>\n",
       "<tr>\n",
       "  <th>job_student</th>         <td>    0.0546</td> <td>    0.016</td> <td>    3.515</td> <td> 0.000</td> <td>    0.024</td> <td>    0.085</td>\n",
       "</tr>\n",
       "<tr>\n",
       "  <th>job_technician</th>      <td>   -0.0659</td> <td>    0.026</td> <td>   -2.558</td> <td> 0.011</td> <td>   -0.116</td> <td>   -0.015</td>\n",
       "</tr>\n",
       "<tr>\n",
       "  <th>job_unemployed</th>      <td>   -0.0299</td> <td>    0.019</td> <td>   -1.603</td> <td> 0.109</td> <td>   -0.067</td> <td>    0.007</td>\n",
       "</tr>\n",
       "<tr>\n",
       "  <th>job_unknown</th>         <td>   -0.0249</td> <td>    0.019</td> <td>   -1.343</td> <td> 0.179</td> <td>   -0.061</td> <td>    0.011</td>\n",
       "</tr>\n",
       "<tr>\n",
       "  <th>marital_married</th>     <td>   -0.0874</td> <td>    0.029</td> <td>   -3.033</td> <td> 0.002</td> <td>   -0.144</td> <td>   -0.031</td>\n",
       "</tr>\n",
       "<tr>\n",
       "  <th>marital_single</th>      <td>    0.0416</td> <td>    0.030</td> <td>    1.374</td> <td> 0.170</td> <td>   -0.018</td> <td>    0.101</td>\n",
       "</tr>\n",
       "<tr>\n",
       "  <th>education_secondary</th> <td>    0.0922</td> <td>    0.032</td> <td>    2.848</td> <td> 0.004</td> <td>    0.029</td> <td>    0.156</td>\n",
       "</tr>\n",
       "<tr>\n",
       "  <th>education_tertiary</th>  <td>    0.1732</td> <td>    0.034</td> <td>    5.048</td> <td> 0.000</td> <td>    0.106</td> <td>    0.240</td>\n",
       "</tr>\n",
       "<tr>\n",
       "  <th>education_unknown</th>   <td>    0.0500</td> <td>    0.021</td> <td>    2.423</td> <td> 0.015</td> <td>    0.010</td> <td>    0.090</td>\n",
       "</tr>\n",
       "<tr>\n",
       "  <th>default_yes</th>         <td>   -0.0026</td> <td>    0.022</td> <td>   -0.120</td> <td> 0.905</td> <td>   -0.045</td> <td>    0.040</td>\n",
       "</tr>\n",
       "<tr>\n",
       "  <th>housing_yes</th>         <td>   -0.3341</td> <td>    0.022</td> <td>  -15.428</td> <td> 0.000</td> <td>   -0.377</td> <td>   -0.292</td>\n",
       "</tr>\n",
       "<tr>\n",
       "  <th>loan_yes</th>            <td>   -0.1558</td> <td>    0.022</td> <td>   -7.080</td> <td> 0.000</td> <td>   -0.199</td> <td>   -0.113</td>\n",
       "</tr>\n",
       "<tr>\n",
       "  <th>contact_telephone</th>   <td>   -0.0406</td> <td>    0.018</td> <td>   -2.203</td> <td> 0.028</td> <td>   -0.077</td> <td>   -0.004</td>\n",
       "</tr>\n",
       "<tr>\n",
       "  <th>contact_unknown</th>     <td>   -0.7414</td> <td>    0.033</td> <td>  -22.781</td> <td> 0.000</td> <td>   -0.805</td> <td>   -0.678</td>\n",
       "</tr>\n",
       "<tr>\n",
       "  <th>month_aug</th>           <td>   -0.2425</td> <td>    0.027</td> <td>   -9.017</td> <td> 0.000</td> <td>   -0.295</td> <td>   -0.190</td>\n",
       "</tr>\n",
       "<tr>\n",
       "  <th>month_dec</th>           <td>    0.0476</td> <td>    0.012</td> <td>    3.925</td> <td> 0.000</td> <td>    0.024</td> <td>    0.071</td>\n",
       "</tr>\n",
       "<tr>\n",
       "  <th>month_feb</th>           <td>   -0.0349</td> <td>    0.021</td> <td>   -1.666</td> <td> 0.096</td> <td>   -0.076</td> <td>    0.006</td>\n",
       "</tr>\n",
       "<tr>\n",
       "  <th>month_jan</th>           <td>   -0.2190</td> <td>    0.021</td> <td>  -10.384</td> <td> 0.000</td> <td>   -0.260</td> <td>   -0.178</td>\n",
       "</tr>\n",
       "<tr>\n",
       "  <th>month_jul</th>           <td>   -0.3028</td> <td>    0.028</td> <td>  -10.997</td> <td> 0.000</td> <td>   -0.357</td> <td>   -0.249</td>\n",
       "</tr>\n",
       "<tr>\n",
       "  <th>month_jun</th>           <td>    0.1463</td> <td>    0.030</td> <td>    4.840</td> <td> 0.000</td> <td>    0.087</td> <td>    0.206</td>\n",
       "</tr>\n",
       "<tr>\n",
       "  <th>month_mar</th>           <td>    0.1623</td> <td>    0.012</td> <td>   13.262</td> <td> 0.000</td> <td>    0.138</td> <td>    0.186</td>\n",
       "</tr>\n",
       "<tr>\n",
       "  <th>month_may</th>           <td>   -0.1836</td> <td>    0.033</td> <td>   -5.522</td> <td> 0.000</td> <td>   -0.249</td> <td>   -0.118</td>\n",
       "</tr>\n",
       "<tr>\n",
       "  <th>month_nov</th>           <td>   -0.2472</td> <td>    0.024</td> <td>  -10.405</td> <td> 0.000</td> <td>   -0.294</td> <td>   -0.201</td>\n",
       "</tr>\n",
       "<tr>\n",
       "  <th>month_oct</th>           <td>    0.1121</td> <td>    0.014</td> <td>    8.193</td> <td> 0.000</td> <td>    0.085</td> <td>    0.139</td>\n",
       "</tr>\n",
       "<tr>\n",
       "  <th>month_sep</th>           <td>    0.0986</td> <td>    0.013</td> <td>    7.335</td> <td> 0.000</td> <td>    0.072</td> <td>    0.125</td>\n",
       "</tr>\n",
       "<tr>\n",
       "  <th>poutcome_other</th>      <td>    0.0491</td> <td>    0.016</td> <td>    3.059</td> <td> 0.002</td> <td>    0.018</td> <td>    0.081</td>\n",
       "</tr>\n",
       "<tr>\n",
       "  <th>poutcome_success</th>    <td>    0.4216</td> <td>    0.012</td> <td>   34.640</td> <td> 0.000</td> <td>    0.398</td> <td>    0.445</td>\n",
       "</tr>\n",
       "</table>"
      ],
      "text/plain": [
       "<class 'statsmodels.iolib.summary.Summary'>\n",
       "\"\"\"\n",
       "                           Logit Regression Results                           \n",
       "==============================================================================\n",
       "Dep. Variable:                 Target   No. Observations:                45211\n",
       "Model:                          Logit   Df Residuals:                    45170\n",
       "Method:                           MLE   Df Model:                           40\n",
       "Date:                Sat, 26 Aug 2023   Pseudo R-squ.:                  0.3392\n",
       "Time:                        01:55:59   Log-Likelihood:                -10782.\n",
       "converged:                       True   LL-Null:                       -16315.\n",
       "Covariance Type:            nonrobust   LLR p-value:                     0.000\n",
       "=======================================================================================\n",
       "                          coef    std err          z      P>|z|      [0.025      0.975]\n",
       "---------------------------------------------------------------------------------------\n",
       "const                  -2.8433      0.025   -111.709      0.000      -2.893      -2.793\n",
       "age                     0.0018      0.023      0.078      0.938      -0.044       0.048\n",
       "balance                 0.0391      0.016      2.495      0.013       0.008       0.070\n",
       "day                     0.0825      0.021      3.969      0.000       0.042       0.123\n",
       "duration                1.0792      0.017     65.017      0.000       1.047       1.112\n",
       "campaign               -0.2828      0.031     -9.007      0.000      -0.344      -0.221\n",
       "previous                0.0293      0.016      1.864      0.062      -0.002       0.060\n",
       "job_blue-collar        -0.1276      0.030     -4.274      0.000      -0.186      -0.069\n",
       "job_entrepreneur       -0.0638      0.022     -2.847      0.004      -0.108      -0.020\n",
       "job_housemaid          -0.0821      0.022     -3.686      0.000      -0.126      -0.038\n",
       "job_management         -0.0674      0.030     -2.261      0.024      -0.126      -0.009\n",
       "job_retired             0.0549      0.021      2.591      0.010       0.013       0.096\n",
       "job_self-employed      -0.0548      0.021     -2.666      0.008      -0.095      -0.015\n",
       "job_services           -0.0650      0.024     -2.675      0.007      -0.113      -0.017\n",
       "job_student             0.0546      0.016      3.515      0.000       0.024       0.085\n",
       "job_technician         -0.0659      0.026     -2.558      0.011      -0.116      -0.015\n",
       "job_unemployed         -0.0299      0.019     -1.603      0.109      -0.067       0.007\n",
       "job_unknown            -0.0249      0.019     -1.343      0.179      -0.061       0.011\n",
       "marital_married        -0.0874      0.029     -3.033      0.002      -0.144      -0.031\n",
       "marital_single          0.0416      0.030      1.374      0.170      -0.018       0.101\n",
       "education_secondary     0.0922      0.032      2.848      0.004       0.029       0.156\n",
       "education_tertiary      0.1732      0.034      5.048      0.000       0.106       0.240\n",
       "education_unknown       0.0500      0.021      2.423      0.015       0.010       0.090\n",
       "default_yes            -0.0026      0.022     -0.120      0.905      -0.045       0.040\n",
       "housing_yes            -0.3341      0.022    -15.428      0.000      -0.377      -0.292\n",
       "loan_yes               -0.1558      0.022     -7.080      0.000      -0.199      -0.113\n",
       "contact_telephone      -0.0406      0.018     -2.203      0.028      -0.077      -0.004\n",
       "contact_unknown        -0.7414      0.033    -22.781      0.000      -0.805      -0.678\n",
       "month_aug              -0.2425      0.027     -9.017      0.000      -0.295      -0.190\n",
       "month_dec               0.0476      0.012      3.925      0.000       0.024       0.071\n",
       "month_feb              -0.0349      0.021     -1.666      0.096      -0.076       0.006\n",
       "month_jan              -0.2190      0.021    -10.384      0.000      -0.260      -0.178\n",
       "month_jul              -0.3028      0.028    -10.997      0.000      -0.357      -0.249\n",
       "month_jun               0.1463      0.030      4.840      0.000       0.087       0.206\n",
       "month_mar               0.1623      0.012     13.262      0.000       0.138       0.186\n",
       "month_may              -0.1836      0.033     -5.522      0.000      -0.249      -0.118\n",
       "month_nov              -0.2472      0.024    -10.405      0.000      -0.294      -0.201\n",
       "month_oct               0.1121      0.014      8.193      0.000       0.085       0.139\n",
       "month_sep               0.0986      0.013      7.335      0.000       0.072       0.125\n",
       "poutcome_other          0.0491      0.016      3.059      0.002       0.018       0.081\n",
       "poutcome_success        0.4216      0.012     34.640      0.000       0.398       0.445\n",
       "=======================================================================================\n",
       "\"\"\""
      ]
     },
     "execution_count": 47,
     "metadata": {},
     "output_type": "execute_result"
    }
   ],
   "source": [
    "model2.summary()"
   ]
  },
  {
   "cell_type": "code",
   "execution_count": 48,
   "id": "c5f706b8",
   "metadata": {},
   "outputs": [
    {
     "data": {
      "text/plain": [
       "const                 -2.843327\n",
       "age                    0.001814\n",
       "balance                0.039082\n",
       "day                    0.082453\n",
       "duration               1.079190\n",
       "campaign              -0.282777\n",
       "previous               0.029305\n",
       "job_blue-collar       -0.127643\n",
       "job_entrepreneur      -0.063751\n",
       "job_housemaid         -0.082138\n",
       "job_management        -0.067402\n",
       "job_retired            0.054918\n",
       "job_self-employed     -0.054788\n",
       "job_services          -0.064957\n",
       "job_student            0.054601\n",
       "job_technician        -0.065921\n",
       "job_unemployed        -0.029939\n",
       "job_unknown           -0.024936\n",
       "marital_married       -0.087449\n",
       "marital_single         0.041610\n",
       "education_secondary    0.092212\n",
       "education_tertiary     0.173222\n",
       "education_unknown      0.049964\n",
       "default_yes           -0.002597\n",
       "housing_yes           -0.334069\n",
       "loan_yes              -0.155798\n",
       "contact_telephone     -0.040607\n",
       "contact_unknown       -0.741390\n",
       "month_aug             -0.242522\n",
       "month_dec              0.047628\n",
       "month_feb             -0.034935\n",
       "month_jan             -0.219033\n",
       "month_jul             -0.302845\n",
       "month_jun              0.146279\n",
       "month_mar              0.162278\n",
       "month_may             -0.183606\n",
       "month_nov             -0.247213\n",
       "month_oct              0.112094\n",
       "month_sep              0.098570\n",
       "poutcome_other         0.049091\n",
       "poutcome_success       0.421581\n",
       "dtype: float64"
      ]
     },
     "execution_count": 48,
     "metadata": {},
     "output_type": "execute_result"
    }
   ],
   "source": [
    "model2.params"
   ]
  },
  {
   "cell_type": "code",
   "execution_count": 49,
   "id": "ec54d340",
   "metadata": {},
   "outputs": [],
   "source": [
    "#Creating model using Logistic Regression from sklearn:\n",
    "X_train,X_test,y_train,y_test = train_test_split(X,Y,test_size=0.20,random_state=3)"
   ]
  },
  {
   "cell_type": "code",
   "execution_count": 50,
   "id": "c5de4cde",
   "metadata": {},
   "outputs": [],
   "source": [
    "model3 = LogisticRegression()"
   ]
  },
  {
   "cell_type": "code",
   "execution_count": 51,
   "id": "b4753aac",
   "metadata": {},
   "outputs": [
    {
     "data": {
      "text/html": [
       "<style>#sk-container-id-1 {color: black;background-color: white;}#sk-container-id-1 pre{padding: 0;}#sk-container-id-1 div.sk-toggleable {background-color: white;}#sk-container-id-1 label.sk-toggleable__label {cursor: pointer;display: block;width: 100%;margin-bottom: 0;padding: 0.3em;box-sizing: border-box;text-align: center;}#sk-container-id-1 label.sk-toggleable__label-arrow:before {content: \"▸\";float: left;margin-right: 0.25em;color: #696969;}#sk-container-id-1 label.sk-toggleable__label-arrow:hover:before {color: black;}#sk-container-id-1 div.sk-estimator:hover label.sk-toggleable__label-arrow:before {color: black;}#sk-container-id-1 div.sk-toggleable__content {max-height: 0;max-width: 0;overflow: hidden;text-align: left;background-color: #f0f8ff;}#sk-container-id-1 div.sk-toggleable__content pre {margin: 0.2em;color: black;border-radius: 0.25em;background-color: #f0f8ff;}#sk-container-id-1 input.sk-toggleable__control:checked~div.sk-toggleable__content {max-height: 200px;max-width: 100%;overflow: auto;}#sk-container-id-1 input.sk-toggleable__control:checked~label.sk-toggleable__label-arrow:before {content: \"▾\";}#sk-container-id-1 div.sk-estimator input.sk-toggleable__control:checked~label.sk-toggleable__label {background-color: #d4ebff;}#sk-container-id-1 div.sk-label input.sk-toggleable__control:checked~label.sk-toggleable__label {background-color: #d4ebff;}#sk-container-id-1 input.sk-hidden--visually {border: 0;clip: rect(1px 1px 1px 1px);clip: rect(1px, 1px, 1px, 1px);height: 1px;margin: -1px;overflow: hidden;padding: 0;position: absolute;width: 1px;}#sk-container-id-1 div.sk-estimator {font-family: monospace;background-color: #f0f8ff;border: 1px dotted black;border-radius: 0.25em;box-sizing: border-box;margin-bottom: 0.5em;}#sk-container-id-1 div.sk-estimator:hover {background-color: #d4ebff;}#sk-container-id-1 div.sk-parallel-item::after {content: \"\";width: 100%;border-bottom: 1px solid gray;flex-grow: 1;}#sk-container-id-1 div.sk-label:hover label.sk-toggleable__label {background-color: #d4ebff;}#sk-container-id-1 div.sk-serial::before {content: \"\";position: absolute;border-left: 1px solid gray;box-sizing: border-box;top: 0;bottom: 0;left: 50%;z-index: 0;}#sk-container-id-1 div.sk-serial {display: flex;flex-direction: column;align-items: center;background-color: white;padding-right: 0.2em;padding-left: 0.2em;position: relative;}#sk-container-id-1 div.sk-item {position: relative;z-index: 1;}#sk-container-id-1 div.sk-parallel {display: flex;align-items: stretch;justify-content: center;background-color: white;position: relative;}#sk-container-id-1 div.sk-item::before, #sk-container-id-1 div.sk-parallel-item::before {content: \"\";position: absolute;border-left: 1px solid gray;box-sizing: border-box;top: 0;bottom: 0;left: 50%;z-index: -1;}#sk-container-id-1 div.sk-parallel-item {display: flex;flex-direction: column;z-index: 1;position: relative;background-color: white;}#sk-container-id-1 div.sk-parallel-item:first-child::after {align-self: flex-end;width: 50%;}#sk-container-id-1 div.sk-parallel-item:last-child::after {align-self: flex-start;width: 50%;}#sk-container-id-1 div.sk-parallel-item:only-child::after {width: 0;}#sk-container-id-1 div.sk-dashed-wrapped {border: 1px dashed gray;margin: 0 0.4em 0.5em 0.4em;box-sizing: border-box;padding-bottom: 0.4em;background-color: white;}#sk-container-id-1 div.sk-label label {font-family: monospace;font-weight: bold;display: inline-block;line-height: 1.2em;}#sk-container-id-1 div.sk-label-container {text-align: center;}#sk-container-id-1 div.sk-container {/* jupyter's `normalize.less` sets `[hidden] { display: none; }` but bootstrap.min.css set `[hidden] { display: none !important; }` so we also need the `!important` here to be able to override the default hidden behavior on the sphinx rendered scikit-learn.org. See: https://github.com/scikit-learn/scikit-learn/issues/21755 */display: inline-block !important;position: relative;}#sk-container-id-1 div.sk-text-repr-fallback {display: none;}</style><div id=\"sk-container-id-1\" class=\"sk-top-container\"><div class=\"sk-text-repr-fallback\"><pre>LogisticRegression()</pre><b>In a Jupyter environment, please rerun this cell to show the HTML representation or trust the notebook. <br />On GitHub, the HTML representation is unable to render, please try loading this page with nbviewer.org.</b></div><div class=\"sk-container\" hidden><div class=\"sk-item\"><div class=\"sk-estimator sk-toggleable\"><input class=\"sk-toggleable__control sk-hidden--visually\" id=\"sk-estimator-id-1\" type=\"checkbox\" checked><label for=\"sk-estimator-id-1\" class=\"sk-toggleable__label sk-toggleable__label-arrow\">LogisticRegression</label><div class=\"sk-toggleable__content\"><pre>LogisticRegression()</pre></div></div></div></div></div>"
      ],
      "text/plain": [
       "LogisticRegression()"
      ]
     },
     "execution_count": 51,
     "metadata": {},
     "output_type": "execute_result"
    }
   ],
   "source": [
    "model3.fit(X_train,y_train)"
   ]
  },
  {
   "cell_type": "code",
   "execution_count": 52,
   "id": "8186e453",
   "metadata": {},
   "outputs": [],
   "source": [
    "y_train_predict = model3.predict(X_train)"
   ]
  },
  {
   "cell_type": "code",
   "execution_count": 53,
   "id": "6e73cde5",
   "metadata": {},
   "outputs": [
    {
     "data": {
      "text/plain": [
       "0.9012939615129396"
      ]
     },
     "execution_count": 53,
     "metadata": {},
     "output_type": "execute_result"
    }
   ],
   "source": [
    "accuracy_score(y_train,y_train_predict)"
   ]
  },
  {
   "cell_type": "code",
   "execution_count": 54,
   "id": "74044ce9",
   "metadata": {},
   "outputs": [],
   "source": [
    "y_test_pred = model3.predict(X_test)"
   ]
  },
  {
   "cell_type": "code",
   "execution_count": 55,
   "id": "29627cf6",
   "metadata": {},
   "outputs": [
    {
     "data": {
      "text/plain": [
       "0.9033506579674887"
      ]
     },
     "execution_count": 55,
     "metadata": {},
     "output_type": "execute_result"
    }
   ],
   "source": [
    "accuracy_score(y_test,y_test_pred)"
   ]
  },
  {
   "cell_type": "code",
   "execution_count": 56,
   "id": "8c9ca4a5",
   "metadata": {},
   "outputs": [
    {
     "data": {
      "text/plain": [
       "array([[7767,  179],\n",
       "       [ 695,  402]], dtype=int64)"
      ]
     },
     "execution_count": 56,
     "metadata": {},
     "output_type": "execute_result"
    }
   ],
   "source": [
    "confusion_matrix(y_test,y_test_pred)"
   ]
  },
  {
   "cell_type": "code",
   "execution_count": 57,
   "id": "f9aae773",
   "metadata": {},
   "outputs": [
    {
     "name": "stdout",
     "output_type": "stream",
     "text": [
      "              precision    recall  f1-score   support\n",
      "\n",
      "           0       0.92      0.98      0.95      7946\n",
      "           1       0.69      0.37      0.48      1097\n",
      "\n",
      "    accuracy                           0.90      9043\n",
      "   macro avg       0.80      0.67      0.71      9043\n",
      "weighted avg       0.89      0.90      0.89      9043\n",
      "\n"
     ]
    }
   ],
   "source": [
    "print(classification_report(y_test,y_test_pred))"
   ]
  },
  {
   "cell_type": "code",
   "execution_count": 58,
   "id": "2b4c198d",
   "metadata": {},
   "outputs": [
    {
     "name": "stdout",
     "output_type": "stream",
     "text": [
      "[[0.98267256 0.01732744]\n",
      " [0.97032035 0.02967965]\n",
      " [0.97517858 0.02482142]\n",
      " ...\n",
      " [0.89328065 0.10671935]\n",
      " [0.99420603 0.00579397]\n",
      " [0.93376795 0.06623205]]\n"
     ]
    }
   ],
   "source": [
    "y_pred_prob = model3.predict_proba(X_test)\n",
    "print(y_pred_prob)"
   ]
  },
  {
   "cell_type": "code",
   "execution_count": 59,
   "id": "9258354f",
   "metadata": {},
   "outputs": [
    {
     "data": {
      "text/plain": [
       "0.6719634538605046"
      ]
     },
     "execution_count": 59,
     "metadata": {},
     "output_type": "execute_result"
    }
   ],
   "source": [
    "logit_roc_curve = roc_auc_score(y_test,y_test_pred)\n",
    "logit_roc_curve"
   ]
  },
  {
   "cell_type": "code",
   "execution_count": 60,
   "id": "670836b7",
   "metadata": {},
   "outputs": [
    {
     "name": "stdout",
     "output_type": "stream",
     "text": [
      "[0.         0.02252706 1.        ] [0.         0.36645397 1.        ] [2 1 0]\n"
     ]
    },
    {
     "data": {
      "image/png": "[encoded data removed]",
      "text/plain": [
       "<Figure size 640x480 with 1 Axes>"
      ]
     },
     "metadata": {},
     "output_type": "display_data"
    }
   ],
   "source": [
    "#Plotting the ROC curve:\n",
    "fpr,tpr,threshold = roc_curve(y_test,y_test_pred)\n",
    "print(fpr,tpr,threshold)\n",
    "plt.plot(fpr,tpr)\n",
    "plt.plot([0,1],[0,1],'r--')\n",
    "plt.xlim([0.0,1.0])\n",
    "plt.ylim([0.0,1.0])\n",
    "plt.xlabel('FPR')\n",
    "plt.ylabel('TPR')\n",
    "plt.show()"
   ]
  },
  {
   "cell_type": "code",
   "execution_count": 61,
   "id": "a6cee69d",
   "metadata": {},
   "outputs": [],
   "source": [
    "#By increasing my FPR by 3% , I'm able to achive almost 35 % True Positive"
   ]
  },
  {
   "cell_type": "code",
   "execution_count": 62,
   "id": "334b58d9",
   "metadata": {},
   "outputs": [
    {
     "data": {
      "text/html": [
       "<div>\n",
       "<style scoped>\n",
       "    .dataframe tbody tr th:only-of-type {\n",
       "        vertical-align: middle;\n",
       "    }\n",
       "\n",
       "    .dataframe tbody tr th {\n",
       "        vertical-align: top;\n",
       "    }\n",
       "\n",
       "    .dataframe thead th {\n",
       "        text-align: right;\n",
       "    }\n",
       "</style>\n",
       "<table border=\"1\" class=\"dataframe\">\n",
       "  <thead>\n",
       "    <tr style=\"text-align: right;\">\n",
       "      <th></th>\n",
       "      <th>0</th>\n",
       "      <th>1</th>\n",
       "    </tr>\n",
       "  </thead>\n",
       "  <tbody>\n",
       "    <tr>\n",
       "      <th>0</th>\n",
       "      <td>0.982673</td>\n",
       "      <td>0.017327</td>\n",
       "    </tr>\n",
       "    <tr>\n",
       "      <th>1</th>\n",
       "      <td>0.970320</td>\n",
       "      <td>0.029680</td>\n",
       "    </tr>\n",
       "    <tr>\n",
       "      <th>2</th>\n",
       "      <td>0.975179</td>\n",
       "      <td>0.024821</td>\n",
       "    </tr>\n",
       "    <tr>\n",
       "      <th>3</th>\n",
       "      <td>0.939570</td>\n",
       "      <td>0.060430</td>\n",
       "    </tr>\n",
       "    <tr>\n",
       "      <th>4</th>\n",
       "      <td>0.955839</td>\n",
       "      <td>0.044161</td>\n",
       "    </tr>\n",
       "    <tr>\n",
       "      <th>...</th>\n",
       "      <td>...</td>\n",
       "      <td>...</td>\n",
       "    </tr>\n",
       "    <tr>\n",
       "      <th>9038</th>\n",
       "      <td>0.964056</td>\n",
       "      <td>0.035944</td>\n",
       "    </tr>\n",
       "    <tr>\n",
       "      <th>9039</th>\n",
       "      <td>0.981909</td>\n",
       "      <td>0.018091</td>\n",
       "    </tr>\n",
       "    <tr>\n",
       "      <th>9040</th>\n",
       "      <td>0.893281</td>\n",
       "      <td>0.106719</td>\n",
       "    </tr>\n",
       "    <tr>\n",
       "      <th>9041</th>\n",
       "      <td>0.994206</td>\n",
       "      <td>0.005794</td>\n",
       "    </tr>\n",
       "    <tr>\n",
       "      <th>9042</th>\n",
       "      <td>0.933768</td>\n",
       "      <td>0.066232</td>\n",
       "    </tr>\n",
       "  </tbody>\n",
       "</table>\n",
       "<p>9043 rows × 2 columns</p>\n",
       "</div>"
      ],
      "text/plain": [
       "             0         1\n",
       "0     0.982673  0.017327\n",
       "1     0.970320  0.029680\n",
       "2     0.975179  0.024821\n",
       "3     0.939570  0.060430\n",
       "4     0.955839  0.044161\n",
       "...        ...       ...\n",
       "9038  0.964056  0.035944\n",
       "9039  0.981909  0.018091\n",
       "9040  0.893281  0.106719\n",
       "9041  0.994206  0.005794\n",
       "9042  0.933768  0.066232\n",
       "\n",
       "[9043 rows x 2 columns]"
      ]
     },
     "execution_count": 62,
     "metadata": {},
     "output_type": "execute_result"
    }
   ],
   "source": [
    "#Predict the probability value for X\n",
    "pred_proba_df = pd.DataFrame(y_pred_prob)\n",
    "pred_proba_df"
   ]
  },
  {
   "cell_type": "code",
   "execution_count": 63,
   "id": "911f2acb",
   "metadata": {},
   "outputs": [
    {
     "name": "stdout",
     "output_type": "stream",
     "text": [
      "\n",
      "*************  For i = 0.2 *************\n",
      "              precision    recall  f1-score   support\n",
      "\n",
      "           0       0.95      0.91      0.93      7946\n",
      "           1       0.52      0.69      0.59      1097\n",
      "\n",
      "    accuracy                           0.89      9043\n",
      "   macro avg       0.74      0.80      0.76      9043\n",
      "weighted avg       0.90      0.89      0.89      9043\n",
      "\n"
     ]
    },
    {
     "data": {
      "image/png": "[encoded data removed]",
      "text/plain": [
       "<Figure size 640x480 with 2 Axes>"
      ]
     },
     "metadata": {},
     "output_type": "display_data"
    },
    {
     "name": "stdout",
     "output_type": "stream",
     "text": [
      "               \n",
      "\n",
      "*************  For i = 0.3 *************\n",
      "              precision    recall  f1-score   support\n",
      "\n",
      "           0       0.94      0.95      0.94      7946\n",
      "           1       0.60      0.56      0.58      1097\n",
      "\n",
      "    accuracy                           0.90      9043\n",
      "   macro avg       0.77      0.75      0.76      9043\n",
      "weighted avg       0.90      0.90      0.90      9043\n",
      "\n"
     ]
    },
    {
     "data": {
      "image/png": "[encoded data removed]",
      "text/plain": [
       "<Figure size 640x480 with 2 Axes>"
      ]
     },
     "metadata": {},
     "output_type": "display_data"
    },
    {
     "name": "stdout",
     "output_type": "stream",
     "text": [
      "               \n",
      "\n",
      "*************  For i = 0.4 *************\n",
      "              precision    recall  f1-score   support\n",
      "\n",
      "           0       0.93      0.97      0.95      7946\n",
      "           1       0.67      0.46      0.55      1097\n",
      "\n",
      "    accuracy                           0.91      9043\n",
      "   macro avg       0.80      0.71      0.75      9043\n",
      "weighted avg       0.90      0.91      0.90      9043\n",
      "\n"
     ]
    },
    {
     "data": {
      "image/png": "[encoded data removed]",
      "text/plain": [
       "<Figure size 640x480 with 2 Axes>"
      ]
     },
     "metadata": {},
     "output_type": "display_data"
    },
    {
     "name": "stdout",
     "output_type": "stream",
     "text": [
      "               \n",
      "\n",
      "*************  For i = 0.5 *************\n",
      "              precision    recall  f1-score   support\n",
      "\n",
      "           0       0.92      0.98      0.95      7946\n",
      "           1       0.69      0.37      0.48      1097\n",
      "\n",
      "    accuracy                           0.90      9043\n",
      "   macro avg       0.80      0.67      0.71      9043\n",
      "weighted avg       0.89      0.90      0.89      9043\n",
      "\n"
     ]
    },
    {
     "data": {
      "image/png": "[encoded data removed]",
      "text/plain": [
       "<Figure size 640x480 with 2 Axes>"
      ]
     },
     "metadata": {},
     "output_type": "display_data"
    },
    {
     "name": "stdout",
     "output_type": "stream",
     "text": [
      "               \n",
      "\n",
      "*************  For i = 0.6 *************\n",
      "              precision    recall  f1-score   support\n",
      "\n",
      "           0       0.91      0.98      0.94      7946\n",
      "           1       0.71      0.28      0.40      1097\n",
      "\n",
      "    accuracy                           0.90      9043\n",
      "   macro avg       0.81      0.63      0.67      9043\n",
      "weighted avg       0.88      0.90      0.88      9043\n",
      "\n"
     ]
    },
    {
     "data": {
      "image/png": "[encoded data removed]",
      "text/plain": [
       "<Figure size 640x480 with 2 Axes>"
      ]
     },
     "metadata": {},
     "output_type": "display_data"
    },
    {
     "name": "stdout",
     "output_type": "stream",
     "text": [
      "               \n",
      "\n",
      "*************  For i = 0.7 *************\n",
      "              precision    recall  f1-score   support\n",
      "\n",
      "           0       0.90      0.99      0.94      7946\n",
      "           1       0.72      0.21      0.33      1097\n",
      "\n",
      "    accuracy                           0.89      9043\n",
      "   macro avg       0.81      0.60      0.64      9043\n",
      "weighted avg       0.88      0.89      0.87      9043\n",
      "\n"
     ]
    },
    {
     "data": {
      "image/png": "[encoded data removed]",
      "text/plain": [
       "<Figure size 640x480 with 2 Axes>"
      ]
     },
     "metadata": {},
     "output_type": "display_data"
    },
    {
     "name": "stdout",
     "output_type": "stream",
     "text": [
      "               \n",
      "\n",
      "*************  For i = 0.8 *************\n",
      "              precision    recall  f1-score   support\n",
      "\n",
      "           0       0.89      0.99      0.94      7946\n",
      "           1       0.75      0.14      0.23      1097\n",
      "\n",
      "    accuracy                           0.89      9043\n",
      "   macro avg       0.82      0.57      0.59      9043\n",
      "weighted avg       0.88      0.89      0.85      9043\n",
      "\n"
     ]
    },
    {
     "data": {
      "image/png": "[encoded data removed]",
      "text/plain": [
       "<Figure size 640x480 with 2 Axes>"
      ]
     },
     "metadata": {},
     "output_type": "display_data"
    },
    {
     "name": "stdout",
     "output_type": "stream",
     "text": [
      "               \n",
      "\n",
      "*************  For i = 0.9 *************\n",
      "              precision    recall  f1-score   support\n",
      "\n",
      "           0       0.89      1.00      0.94      7946\n",
      "           1       0.76      0.07      0.12      1097\n",
      "\n",
      "    accuracy                           0.88      9043\n",
      "   macro avg       0.82      0.53      0.53      9043\n",
      "weighted avg       0.87      0.88      0.84      9043\n",
      "\n"
     ]
    },
    {
     "data": {
      "image/png": "[encoded data removed]",
      "text/plain": [
       "<Figure size 640x480 with 2 Axes>"
      ]
     },
     "metadata": {},
     "output_type": "display_data"
    },
    {
     "name": "stdout",
     "output_type": "stream",
     "text": [
      "               \n"
     ]
    }
   ],
   "source": [
    "# Use Cut-off value to predict the recall_score and accuracy score\n",
    "cutoff_list = [0.2,0.3,0.4,0.5,0.6,0.7,0.8,0.9]\n",
    "\n",
    "for i in cutoff_list:\n",
    "    print('\\n*************  For i = {} *************'.format(i))\n",
    "    y_pred = pd.DataFrame(np.where(pred_proba_df.iloc[:,1:2] > i ,1,0))\n",
    "    test_recall_score = recall_score(y_test,y_pred)\n",
    "    test_auc_score = roc_auc_score(y_test,y_pred)\n",
    "    test_precision_score = precision_score(y_test,y_pred)\n",
    "    print(classification_report(y_test,y_pred))\n",
    "    sns.heatmap((confusion_matrix(y_test,y_pred)),fmt='.5g',annot=True,cmap='PuBu')\n",
    "    plt.show()\n",
    "    print(\"               \")"
   ]
  },
  {
   "cell_type": "code",
   "execution_count": null,
   "id": "5b216839",
   "metadata": {},
   "outputs": [],
   "source": []
  }
 ],
 "metadata": {
  "kernelspec": {
   "display_name": "Python 3 (ipykernel)",
   "language": "python",
   "name": "python3"
  },
  "language_info": {
   "codemirror_mode": {
    "name": "ipython",
    "version": 3
   },
   "file_extension": ".py",
   "mimetype": "text/x-python",
   "name": "python",
   "nbconvert_exporter": "python",
   "pygments_lexer": "ipython3",
   "version": "3.10.9"
  }
 },
 "nbformat": 4,
 "nbformat_minor": 5
}
